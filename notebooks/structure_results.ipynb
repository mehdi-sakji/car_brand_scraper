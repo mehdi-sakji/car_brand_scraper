{
 "cells": [
  {
   "cell_type": "markdown",
   "metadata": {},
   "source": [
    "## Import libs"
   ]
  },
  {
   "cell_type": "code",
   "execution_count": 1,
   "metadata": {},
   "outputs": [],
   "source": [
    "import pandas as pd\n",
    "import csv"
   ]
  },
  {
   "cell_type": "markdown",
   "metadata": {},
   "source": [
    "## Mapping"
   ]
  },
  {
   "cell_type": "code",
   "execution_count": 2,
   "metadata": {},
   "outputs": [],
   "source": [
    "with open(\"BURAK_MEHDI_mapping.csv\", \"r\") as csvfile:\n",
    "    lines = csv.reader(csvfile)\n",
    "    lines_list = [line for line in lines]"
   ]
  },
  {
   "cell_type": "code",
   "execution_count": 3,
   "metadata": {},
   "outputs": [],
   "source": [
    "burak_mapping = lines_list[0]"
   ]
  },
  {
   "cell_type": "code",
   "execution_count": 4,
   "metadata": {},
   "outputs": [],
   "source": [
    "burak_mapping = [item.upper() for item in burak_mapping if item != \"\"]"
   ]
  },
  {
   "cell_type": "code",
   "execution_count": 5,
   "metadata": {},
   "outputs": [
    {
     "data": {
      "text/plain": [
       "['ANCAP RATING',\n",
       " 'BADGE',\n",
       " 'BODY TYPE',\n",
       " 'CO² EMISSIONS',\n",
       " 'SERIES',\n",
       " 'EXTERIOR COLOUR',\n",
       " 'COMMENTS',\n",
       " 'CYLINDERS',\n",
       " 'DOORS',\n",
       " 'DRIVE TYPE',\n",
       " 'ENGINE',\n",
       " 'FUEL ECONOMY',\n",
       " 'FUEL ECONOMY (CITY) ',\n",
       " 'FUEL ECONOMY (COMBINED)',\n",
       " 'FUEL ECONOMY (HIGHWAY)',\n",
       " 'FUEL TYPE',\n",
       " 'GEARS',\n",
       " 'GREEN STAR RATING',\n",
       " 'GREENHOUSE RATING',\n",
       " 'INDUCTION TYPE',\n",
       " 'INTERIOR COLOUR',\n",
       " 'LINK',\n",
       " 'MAKE',\n",
       " 'MODEL',\n",
       " 'ODOMETER',\n",
       " 'PRICE',\n",
       " 'REGO',\n",
       " 'REGO EXPIRY',\n",
       " 'SERIES',\n",
       " 'SEATS',\n",
       " 'TOWING CAPACITY (BRAKED)',\n",
       " 'TRANSMISSION',\n",
       " 'VIN',\n",
       " 'YEAR',\n",
       " 'TITLE',\n",
       " 'GROSS COMBINATION MASS',\n",
       " 'GROSS VEHICLE MASS',\n",
       " 'WHEEL BASE',\n",
       " 'HEIGHT',\n",
       " 'LENGTH',\n",
       " 'WIDTH',\n",
       " 'KERB WEIGHT',\n",
       " 'TARE MASS',\n",
       " 'PAY LOAD',\n",
       " 'TRACK FRONT',\n",
       " 'TRACK REAR',\n",
       " 'TOWING CAPACITY (UNBRAKED)',\n",
       " 'GEAR TYPE',\n",
       " 'GEAR LOCATION',\n",
       " 'ENGINE SIZE (CC)',\n",
       " 'CAMSHAFT',\n",
       " 'ENGINE TYPE',\n",
       " 'POWER',\n",
       " 'POWER RPM TO',\n",
       " 'TORQUE',\n",
       " 'TORQUE RPM FROM',\n",
       " 'TORQUE RPM TO',\n",
       " 'ENGINE NUMBER',\n",
       " 'ENGINE CODE',\n",
       " 'VALVES PER CYLINDER',\n",
       " 'ENGINE CYCLE',\n",
       " 'VEHICLE TYPE',\n",
       " 'ENGINE CONFIGURATION',\n",
       " 'ENGINE LOCATION',\n",
       " 'COMPRESSION RATIO',\n",
       " 'FUEL CAPACITY',\n",
       " 'FUEL DELIVERY',\n",
       " 'METHOD OF DELIVERY',\n",
       " 'CO2 COMBINED',\n",
       " 'CO2 URBAN',\n",
       " 'CO2 EXTRA URBAN',\n",
       " 'STEERING DESCRIPTION',\n",
       " 'FRONT TYRE SIZE',\n",
       " 'REAR TYRE SIZE',\n",
       " 'FRONT RIM DESCRIPTION',\n",
       " 'REAR RIM DESCRIPTION',\n",
       " 'RIMS',\n",
       " 'WARRANTY IN YEARS FROM FIRST REGISTRATION',\n",
       " 'WARRANTY IN KM',\n",
       " 'FIRST SERVICE DUE IN KM',\n",
       " 'FIRST SERVICE DUE IN MONTHS',\n",
       " 'REGULAR SERVICE INTERVAL IN KM',\n",
       " 'REGULAR SERVICE INTERVAL IN MONTHS',\n",
       " 'DEALER NAME',\n",
       " 'STATE',\n",
       " 'SELLER TYPE',\n",
       " 'STOCK NO',\n",
       " 'LOCATION',\n",
       " 'VEHICLE FEATURES',\n",
       " 'POWER TO WEIGHT RATIO',\n",
       " 'ACCELERATION 0-100KM/H',\n",
       " 'MAXIMUM SPEED',\n",
       " 'RON RATING',\n",
       " 'FUEL AVERAGE DISTANCE',\n",
       " 'FUEL MAXIMUM DISTANCE',\n",
       " 'FUEL MINIMUM DISTANCE',\n",
       " 'EMISSION STANDART',\n",
       " 'TURNING CIRCLE BETWEEN KERBS',\n",
       " 'GROUND CLEARANCE',\n",
       " 'BOOT / LOAD SPACE MAX (L)',\n",
       " 'BOOT / LOAD SPACE MIN (L)',\n",
       " 'MAXIMUM TOWBALL DOWNLOAD',\n",
       " 'WARRANTY CUSTOMER ASSISTANCE',\n",
       " 'COUNTRY OF ORIGIN',\n",
       " 'LAUNCH YEAR',\n",
       " 'LAUNCH MONTH',\n",
       " 'GENERATION NAME',\n",
       " 'MODEL YEAR',\n",
       " 'P PLATE STATUS',\n",
       " 'BUILD DATE',\n",
       " 'COMPLIANCE DATE',\n",
       " 'INTERIOR COND',\n",
       " 'CARPET COND',\n",
       " 'TRIM COND',\n",
       " 'BODY COND',\n",
       " 'SEAT COND',\n",
       " 'PAINT COND',\n",
       " 'BRAKE COND',\n",
       " 'PAINT COND',\n",
       " 'MECHANICAL COND',\n",
       " 'RUST COND',\n",
       " 'MOTOR CONDITION',\n",
       " 'CLUTCH',\n",
       " 'GEARBOX',\n",
       " 'OVERALL CONDITION RATING',\n",
       " 'NOTES',\n",
       " 'DIFFERENTIAL',\n",
       " 'STEERING',\n",
       " 'BRAKES',\n",
       " 'RATTLES',\n",
       " 'WINDSCREEN',\n",
       " 'BATTERY']"
      ]
     },
     "execution_count": 5,
     "metadata": {},
     "output_type": "execute_result"
    }
   ],
   "source": [
    "burak_mapping"
   ]
  },
  {
   "cell_type": "markdown",
   "metadata": {},
   "source": [
    "## Verify each website data"
   ]
  },
  {
   "cell_type": "code",
   "execution_count": 6,
   "metadata": {},
   "outputs": [],
   "source": [
    "all_filenames = [\n",
    "    \"../results/audi.csv\",\n",
    "    \"../results/auto.csv\",\n",
    "    \"../results/bmw.csv\",\n",
    "    \"../results/carnet.csv\",\n",
    "    \"../results/central_auto.csv\",\n",
    "    \"../results/city_motor.csv\",\n",
    "    \"../results/f3_motor.csv\",\n",
    "    \"../results/hyundai.csv\",\n",
    "    \"../results/jeep.csv\",\n",
    "    \"../results/mercedes.csv\",\n",
    "    \"../results/nissan.csv\",\n",
    "    \"../results/renault.csv\",\n",
    "    \"../results/slattery.csv\",\n",
    "    \"../results/subaru.csv\",\n",
    "    \"../results/toyota.csv\",\n",
    "    \"../results/valley_motor.csv\",\n",
    "]"
   ]
  },
  {
   "cell_type": "code",
   "execution_count": 7,
   "metadata": {},
   "outputs": [],
   "source": [
    "df = {}"
   ]
  },
  {
   "cell_type": "code",
   "execution_count": 8,
   "metadata": {},
   "outputs": [],
   "source": [
    "for file in all_filenames:\n",
    "    df[file.replace(\"../results/\", \"\").replace(\".csv\", \"\")] = pd.read_csv(file)"
   ]
  },
  {
   "cell_type": "code",
   "execution_count": 19,
   "metadata": {},
   "outputs": [],
   "source": [
    "#df[\"auto\"] = pd.read_csv(\"./results/auto.csv\")"
   ]
  },
  {
   "cell_type": "code",
   "execution_count": 9,
   "metadata": {},
   "outputs": [],
   "source": [
    "burak_mapping.append(\"CO2 EMISSIONS\")"
   ]
  },
  {
   "cell_type": "code",
   "execution_count": 10,
   "metadata": {},
   "outputs": [],
   "source": [
    "burak_mapping.append(\"TIMESTAMP\")"
   ]
  },
  {
   "cell_type": "markdown",
   "metadata": {},
   "source": [
    "... One by one "
   ]
  },
  {
   "cell_type": "code",
   "execution_count": 11,
   "metadata": {},
   "outputs": [],
   "source": [
    "def get_drop_columns(frame, burak_mapping):\n",
    "    columns = list(frame.columns)\n",
    "    drop_columns = [item for item in columns if item not in burak_mapping]\n",
    "    return drop_columns"
   ]
  },
  {
   "cell_type": "code",
   "execution_count": 12,
   "metadata": {},
   "outputs": [],
   "source": [
    "drop_columns = get_drop_columns(df[\"audi\"], burak_mapping)"
   ]
  },
  {
   "cell_type": "code",
   "execution_count": 13,
   "metadata": {},
   "outputs": [
    {
     "data": {
      "text/plain": [
       "['NEW/USED/DEMO', 'images']"
      ]
     },
     "execution_count": 13,
     "metadata": {},
     "output_type": "execute_result"
    }
   ],
   "source": [
    "drop_columns"
   ]
  },
  {
   "cell_type": "code",
   "execution_count": 14,
   "metadata": {},
   "outputs": [],
   "source": [
    "df[\"audi\"].drop(drop_columns ,axis=1 ,inplace=True)"
   ]
  },
  {
   "cell_type": "code",
   "execution_count": 15,
   "metadata": {},
   "outputs": [
    {
     "data": {
      "text/plain": [
       "TIMESTAMP                                                  1576706787\n",
       "LINK                https://audisearch.com.au/details/497155/2015-...\n",
       "MAKE                                                             Audi\n",
       "TITLE                                              2015 Audi S3 Sedan\n",
       "MODEL                                                              S3\n",
       "PRICE                                                         $42,490\n",
       "COMMENTS            Audi Approved with 2 Year Manufacturers warran...\n",
       "DEALER NAME                                        Solitaire Preowned\n",
       "LOCATION                      120 Glen Osmond Road,  Parkside SA 5063\n",
       "VEHICLE FEATURES    10 Speaker Stereo,12V Socket(s) - Auxiliary,18...\n",
       "YEAR                                                             2015\n",
       "ODOMETER                                                        50545\n",
       "FUEL ECONOMY                                                 6.9l/100\n",
       "TRANSMISSION                                                Automatic\n",
       "FUEL TYPE                                        Petrol - Premium ULP\n",
       "EXTERIOR COLOUR                                           Sepang Blue\n",
       "DRIVE TYPE                                           Four Wheel Drive\n",
       "BODY TYPE                                                       Sedan\n",
       "ENGINE                                                     2.0 Litres\n",
       "REGO                                                          S709CBF\n",
       "DOORS                                                         4 doors\n",
       "SEATS                                                         5 seats\n",
       "CYLINDERS                                                 4 cylinders\n",
       "ANCAP RATING                                                   5 star\n",
       "INDUCTION TYPE                                      Turbo Intercooled\n",
       "STOCK NO                                                       U21142\n",
       "VIN                                                 WAUZZZ8V9F1143739\n",
       "Name: 0, dtype: object"
      ]
     },
     "execution_count": 15,
     "metadata": {},
     "output_type": "execute_result"
    }
   ],
   "source": [
    "df[\"audi\"].iloc[0]"
   ]
  },
  {
   "cell_type": "code",
   "execution_count": 16,
   "metadata": {},
   "outputs": [],
   "source": [
    "drop_columns = get_drop_columns(df[\"auto\"], burak_mapping)"
   ]
  },
  {
   "cell_type": "code",
   "execution_count": null,
   "metadata": {},
   "outputs": [],
   "source": []
  },
  {
   "cell_type": "code",
   "execution_count": 17,
   "metadata": {},
   "outputs": [
    {
     "data": {
      "text/plain": [
       "['images']"
      ]
     },
     "execution_count": 17,
     "metadata": {},
     "output_type": "execute_result"
    }
   ],
   "source": [
    "drop_columns"
   ]
  },
  {
   "cell_type": "code",
   "execution_count": 18,
   "metadata": {},
   "outputs": [],
   "source": [
    "df[\"auto\"][\"VEHICLE FEATURES\"] = df[\"auto\"][\"VEHICLE FEATURES\"].apply(\n",
    "    lambda value: value.replace(\"\\n\", \",\"))"
   ]
  },
  {
   "cell_type": "code",
   "execution_count": 19,
   "metadata": {},
   "outputs": [
    {
     "data": {
      "text/plain": [
       "TIMESTAMP                                                  1576706425\n",
       "TITLE                                          2008 ALFA ROMEO GT 3.2\n",
       "LINK                http://www.auto-auctions.com.au/cp_veh_inspect...\n",
       "MAKE                                                       ALFA ROMEO\n",
       "MODEL                                                              GT\n",
       "YEAR                                                             2008\n",
       "FUEL TYPE                                                     PREMIUM\n",
       "BODY TYPE                                                   2D COUPE \n",
       "TRANSMISSION                                              6 SP MANUAL\n",
       "ODOMETER                                                       102781\n",
       "REGO                                                           BMA83R\n",
       "REGO EXPIRY                                                12/07/2020\n",
       "STOCK NO                                                       543077\n",
       "DEALER NAME                                      Auto Auctions Sydney\n",
       "LOCATION                       682 Woodville Road, Guildford NSW 2161\n",
       "VEHICLE FEATURES    Brake Assist,Elec Brake Force Distribution,CD ...\n",
       "COMMENTS                                                          NaN\n",
       "COMPLIANCE DATE                                                 12/09\n",
       "BADGE                                                             3.2\n",
       "ENGINE SIZE (CC)                                                 3.2L\n",
       "EXTERIOR COLOUR                                                SILVER\n",
       "SERIES                                                            NaN\n",
       "ENGINE NUMBER                                           936A000004301\n",
       "VIN                                                 ZAR93700003448322\n",
       "images                                                            NaN\n",
       "Name: 0, dtype: object"
      ]
     },
     "execution_count": 19,
     "metadata": {},
     "output_type": "execute_result"
    }
   ],
   "source": [
    "df[\"auto\"].iloc[0]"
   ]
  },
  {
   "cell_type": "code",
   "execution_count": 20,
   "metadata": {},
   "outputs": [],
   "source": [
    "drop_columns = get_drop_columns(df[\"bmw\"], burak_mapping)"
   ]
  },
  {
   "cell_type": "code",
   "execution_count": 21,
   "metadata": {},
   "outputs": [
    {
     "data": {
      "text/plain": [
       "['images']"
      ]
     },
     "execution_count": 21,
     "metadata": {},
     "output_type": "execute_result"
    }
   ],
   "source": [
    "drop_columns"
   ]
  },
  {
   "cell_type": "code",
   "execution_count": 22,
   "metadata": {},
   "outputs": [],
   "source": [
    "df[\"bmw\"].drop(drop_columns ,axis=1 ,inplace=True)"
   ]
  },
  {
   "cell_type": "code",
   "execution_count": 23,
   "metadata": {},
   "outputs": [
    {
     "data": {
      "text/plain": [
       "TIMESTAMP                                                          1576706556\n",
       "TITLE                                               2015 BMW 318i Sport Line \n",
       "LINK                        https://usedcars.bmw.com.au/details/2015-bmw-3...\n",
       "MAKE                                                                      BMW\n",
       "PRICE                                                                 $29,990\n",
       "DEALER NAME                                                      Westside BMW\n",
       "LOCATION                                      275 Monier Road, Darra QLD 4076\n",
       "COMMENTS                    THIS BMW ALSO INCLUDES THESE FEATURES: Leather...\n",
       "VEHICLE FEATURES            Audio - Aux Input Socket (MP3/CD/Cassette),Aud...\n",
       "SERIES                                                               3 Series\n",
       "MODEL                                                         318i Sport Line\n",
       "BODY TYPE                                                               Sedan\n",
       "EXTERIOR COLOUR                                                Black Sapphire\n",
       "ODOMETER                                                            48,557 KM\n",
       "YEAR                                                                     2015\n",
       "ENGINE                                                             3 Cyl 1.5L\n",
       "FUEL TYPE                                                              Petrol\n",
       "TRANSMISSION                                                        Automatic\n",
       "DRIVE TYPE                                                   Rear Wheel Drive\n",
       "DOORS                                                                       4\n",
       "SEATS                                                                       5\n",
       "REGO                                                                   098ZGA\n",
       "REGO EXPIRY                                                          5/2/2020\n",
       "VIN                                                         WBA8E36030NT88810\n",
       "INDUCTION TYPE                                              Turbo Intercooled\n",
       "TOWING CAPACITY (BRAKED)                                               1300kg\n",
       "FUEL ECONOMY                                                      5.4 L/100km\n",
       "Name: 0, dtype: object"
      ]
     },
     "execution_count": 23,
     "metadata": {},
     "output_type": "execute_result"
    }
   ],
   "source": [
    "df[\"bmw\"].iloc[0]"
   ]
  },
  {
   "cell_type": "code",
   "execution_count": 24,
   "metadata": {},
   "outputs": [],
   "source": [
    "#df[\"carnet\"] = pd.read_csv(\"./results/carnet.csv\")"
   ]
  },
  {
   "cell_type": "code",
   "execution_count": 25,
   "metadata": {},
   "outputs": [],
   "source": [
    "drop_columns = get_drop_columns(df[\"carnet\"], burak_mapping)"
   ]
  },
  {
   "cell_type": "code",
   "execution_count": 26,
   "metadata": {},
   "outputs": [
    {
     "data": {
      "text/plain": [
       "['images']"
      ]
     },
     "execution_count": 26,
     "metadata": {},
     "output_type": "execute_result"
    }
   ],
   "source": [
    "drop_columns"
   ]
  },
  {
   "cell_type": "code",
   "execution_count": 27,
   "metadata": {},
   "outputs": [],
   "source": [
    "df[\"carnet\"].drop(drop_columns ,axis=1 ,inplace=True)"
   ]
  },
  {
   "cell_type": "code",
   "execution_count": 28,
   "metadata": {},
   "outputs": [],
   "source": [
    "df[\"carnet\"][\"YEAR\"] = df[\"carnet\"][\"YEAR\"].apply(lambda value: value.split(\"/\")[-1])"
   ]
  },
  {
   "cell_type": "code",
   "execution_count": 29,
   "metadata": {},
   "outputs": [
    {
     "data": {
      "text/plain": [
       "TITLE                                                    2008 AUDI A4\n",
       "LINK                https://www.carnetauctions.com.au/cp_veh_inspe...\n",
       "TIMESTAMP                                                  1576707183\n",
       "DEALER NAME                                           CarNet auctions\n",
       "LOCATION                       211-221 Cumberland Hwy Smithfield, NSW\n",
       "VEHICLE FEATURES    Brake Assist,Multi-function Steering Wheel,CD ...\n",
       "COMMENTS            Carnet is one of the largest motor vehicle who...\n",
       "YEAR                                                             2008\n",
       "COMPLIANCE DATE                                                 02/08\n",
       "MAKE                                                             AUDI\n",
       "MODEL                                                              A4\n",
       "BADGE                                                               2\n",
       "SERIES                                                             B7\n",
       "BODY TYPE                                                    4D SEDAN\n",
       "TRANSMISSION                                          CVT MULTITRONIC\n",
       "ENGINE SIZE (CC)                                                 2.0L\n",
       "FUEL TYPE                                                     PREMIUM\n",
       "ODOMETER                                                       160617\n",
       "EXTERIOR COLOUR                                                 BLACK\n",
       "REGO                                                           DLM26P\n",
       "REGO EXPIRY                                                29/02/2020\n",
       "VIN                                                 WAUZZZ8E78A130314\n",
       "ENGINE NUMBER                                               ALT102128\n",
       "STOCK NO                                                       148303\n",
       "Name: 0, dtype: object"
      ]
     },
     "execution_count": 29,
     "metadata": {},
     "output_type": "execute_result"
    }
   ],
   "source": [
    "df[\"carnet\"].iloc[0]"
   ]
  },
  {
   "cell_type": "code",
   "execution_count": 30,
   "metadata": {},
   "outputs": [],
   "source": [
    "#df[\"central_auto\"] = pd.read_csv(\"./results/central_auto.csv\")"
   ]
  },
  {
   "cell_type": "code",
   "execution_count": 31,
   "metadata": {},
   "outputs": [],
   "source": [
    "drop_columns = get_drop_columns(df[\"central_auto\"], burak_mapping)"
   ]
  },
  {
   "cell_type": "code",
   "execution_count": 32,
   "metadata": {},
   "outputs": [
    {
     "data": {
      "text/plain": [
       "['images']"
      ]
     },
     "execution_count": 32,
     "metadata": {},
     "output_type": "execute_result"
    }
   ],
   "source": [
    "drop_columns"
   ]
  },
  {
   "cell_type": "code",
   "execution_count": 33,
   "metadata": {},
   "outputs": [],
   "source": [
    "df[\"central_auto\"].drop(drop_columns ,axis=1 ,inplace=True)"
   ]
  },
  {
   "cell_type": "code",
   "execution_count": 34,
   "metadata": {},
   "outputs": [],
   "source": [
    "df[\"central_auto\"][\"YEAR\"] = df[\"central_auto\"][\"YEAR\"].apply(lambda value: value.split(\"/\")[-1])"
   ]
  },
  {
   "cell_type": "code",
   "execution_count": 35,
   "metadata": {},
   "outputs": [
    {
     "data": {
      "text/plain": [
       "TITLE                                                    2005 AUDI A3\n",
       "LINK                http://www.centralautoauctions.com.au/cp_veh_i...\n",
       "TIMESTAMP                                                  1576707316\n",
       "DEALER NAME                                     Central Auto Auctions\n",
       "LOCATION            Central Auto Auctions Pty Ltd Lic. MD 1006191 ...\n",
       "VEHICLE FEATURES                                                  NaN\n",
       "COMMENTS                                                          NaN\n",
       "YEAR                                                             2005\n",
       "COMPLIANCE DATE                                                 04/05\n",
       "MAKE                                                             AUDI\n",
       "MODEL                                                              A3\n",
       "BADGE                                                             NaN\n",
       "SERIES                                                            NaN\n",
       "BODY TYPE                                                   HATCHBACK\n",
       "TRANSMISSION                                                        A\n",
       "ENGINE SIZE (CC)                                                  NaN\n",
       "FUEL TYPE                                                      PETROL\n",
       "ODOMETER                                                        99420\n",
       "EXTERIOR COLOUR                                                SILVER\n",
       "REGO                                                            UNREG\n",
       "REGO EXPIRY                                                02/05/2020\n",
       "ENGINE NUMBER                                               BGU156055\n",
       "STOCK NO                                                       175304\n",
       "Name: 0, dtype: object"
      ]
     },
     "execution_count": 35,
     "metadata": {},
     "output_type": "execute_result"
    }
   ],
   "source": [
    "df[\"central_auto\"].iloc[0]"
   ]
  },
  {
   "cell_type": "code",
   "execution_count": 36,
   "metadata": {},
   "outputs": [],
   "source": [
    "#df[\"city_motor\"] = pd.read_csv(\"./results/city_motor.csv\")"
   ]
  },
  {
   "cell_type": "code",
   "execution_count": 37,
   "metadata": {},
   "outputs": [],
   "source": [
    "drop_columns = get_drop_columns(df[\"city_motor\"], burak_mapping)"
   ]
  },
  {
   "cell_type": "code",
   "execution_count": 38,
   "metadata": {},
   "outputs": [
    {
     "data": {
      "text/plain": [
       "['GST STATUS', 'PRICING GUIDE', 'images']"
      ]
     },
     "execution_count": 38,
     "metadata": {},
     "output_type": "execute_result"
    }
   ],
   "source": [
    "drop_columns"
   ]
  },
  {
   "cell_type": "code",
   "execution_count": 39,
   "metadata": {},
   "outputs": [],
   "source": [
    "df[\"city_motor\"].drop(drop_columns ,axis=1 ,inplace=True)"
   ]
  },
  {
   "cell_type": "code",
   "execution_count": 40,
   "metadata": {},
   "outputs": [],
   "source": [
    "df[\"city_motor\"][\"YEAR\"] = df[\"city_motor\"][\"YEAR\"].apply(lambda value: value.split(\"/\")[-1])"
   ]
  },
  {
   "cell_type": "code",
   "execution_count": 41,
   "metadata": {},
   "outputs": [],
   "source": [
    "df[\"city_motor\"][\"TITLE\"] = df[\"city_motor\"][\"YEAR\"] + \" \" +   df[\"city_motor\"][\"MAKE\"] + \" \" +  df[\"city_motor\"][\"MODEL\"] + \" \""
   ]
  },
  {
   "cell_type": "code",
   "execution_count": null,
   "metadata": {},
   "outputs": [],
   "source": []
  },
  {
   "cell_type": "code",
   "execution_count": 42,
   "metadata": {},
   "outputs": [
    {
     "data": {
      "text/plain": [
       "LINK                        https://www.citymotorauction.com.au/cp_veh_ins...\n",
       "TIMESTAMP                                                          1576707422\n",
       "DEALER NAME                                                City Motor Auction\n",
       "LOCATION                       720 Kingsford Smith Drive Eagle Farm QLD, 4009\n",
       "VEHICLE FEATURES            Air-Bag, Anti-Lock Braking System, Alloy Wheel...\n",
       "COMMENTS                                                                  NaN\n",
       "YEAR                                                                     2008\n",
       "COMPLIANCE DATE                                                         01/09\n",
       "MAKE                                                                     AUDI\n",
       "MODEL                                                                      A3\n",
       "BADGE                                           SPORTBACK 1.4 TFSI ATTRACTION\n",
       "SERIES                                                                8P MY09\n",
       "BODY TYPE                                                       5D HATCHBACK \n",
       "INDUCTION TYPE                                                     TURBO MPFI\n",
       "ENGINE                                                                   1.4L\n",
       "TRANSMISSION                                             7 SP AUTO DIRECT SHI\n",
       "FUEL TYPE                                                             PREMIUM\n",
       "ODOMETER                                                               170523\n",
       "EXTERIOR COLOUR                                                         BLACK\n",
       "STOCK NO                                                               249332\n",
       "VIN                                                         WAUZZZ8P99A060883\n",
       "ENGINE NUMBER                                                       CAX128181\n",
       "MOTOR CONDITION                                                          Good\n",
       "DIFFERENTIAL                                                             Good\n",
       "RATTLES                                                                  Some\n",
       "CLUTCH                                                                   Good\n",
       "STEERING                                                                 Good\n",
       "WINDSCREEN                                                            Chipped\n",
       "GEARBOX                                                                  Good\n",
       "BRAKES                                                                   Good\n",
       "BATTERY                                                                   Yes\n",
       "OVERALL CONDITION RATING                                                  NaN\n",
       "NOTES                                              Abs and traction lights on\n",
       "TITLE                                                           2008 AUDI A3 \n",
       "Name: 0, dtype: object"
      ]
     },
     "execution_count": 42,
     "metadata": {},
     "output_type": "execute_result"
    }
   ],
   "source": [
    "df[\"city_motor\"].iloc[0]"
   ]
  },
  {
   "cell_type": "code",
   "execution_count": 43,
   "metadata": {},
   "outputs": [],
   "source": [
    "#df[\"f3_motor\"] = pd.read_csv(\"./results/f3_motor.csv\")"
   ]
  },
  {
   "cell_type": "code",
   "execution_count": 44,
   "metadata": {},
   "outputs": [],
   "source": [
    "drop_columns = get_drop_columns(df[\"f3_motor\"], burak_mapping)"
   ]
  },
  {
   "cell_type": "code",
   "execution_count": 45,
   "metadata": {},
   "outputs": [
    {
     "data": {
      "text/plain": [
       "['images']"
      ]
     },
     "execution_count": 45,
     "metadata": {},
     "output_type": "execute_result"
    }
   ],
   "source": [
    "drop_columns"
   ]
  },
  {
   "cell_type": "code",
   "execution_count": 46,
   "metadata": {},
   "outputs": [],
   "source": [
    "df[\"f3_motor\"].drop(drop_columns ,axis=1 ,inplace=True)"
   ]
  },
  {
   "cell_type": "code",
   "execution_count": 47,
   "metadata": {},
   "outputs": [],
   "source": [
    "df[\"f3_motor\"][\"YEAR\"] = df[\"f3_motor\"][\"YEAR\"].apply(lambda value: value.split(\"/\")[-1])"
   ]
  },
  {
   "cell_type": "code",
   "execution_count": 48,
   "metadata": {},
   "outputs": [
    {
     "data": {
      "text/plain": [
       "TITLE                                                      2002 BMW 3\n",
       "LINK                https://www.f3motorauctions.com.au/cp_veh_insp...\n",
       "TIMESTAMP                                                  1576707558\n",
       "DEALER NAME                                         F3 Motor Auctions\n",
       "LOCATION            F3 Motor Auctions Pty Ltd Lic. MD 39894 1a Yan...\n",
       "VEHICLE FEATURES    Air-Bag,Anti-Lock Braking System,Air Condition...\n",
       "COMMENTS            Automatic, tidy car and drives very nice.Give ...\n",
       "YEAR                                                             2002\n",
       "COMPLIANCE DATE                                                 02/03\n",
       "MAKE                                                              BMW\n",
       "MODEL                                                               3\n",
       "BADGE                                                            16ti\n",
       "SERIES                                                            E46\n",
       "BODY TYPE                                                3D HATCHBACK\n",
       "TRANSMISSION                                     5 SP AUTOMATIC STEPT\n",
       "ENGINE SIZE (CC)                                                 1.8L\n",
       "FUEL TYPE                                                     PREMIUM\n",
       "ODOMETER                                                       229801\n",
       "EXTERIOR COLOUR                                                SILVER\n",
       "REGO                                                           BQ92AR\n",
       "REGO EXPIRY                                   UNREGISTERED 01/12/2019\n",
       "VIN                                                 WBAAT52060AH67531\n",
       "ENGINE NUMBER                                        A2110853N42B18AB\n",
       "STOCK NO                                                        26916\n",
       "Name: 0, dtype: object"
      ]
     },
     "execution_count": 48,
     "metadata": {},
     "output_type": "execute_result"
    }
   ],
   "source": [
    "df[\"f3_motor\"].iloc[0]"
   ]
  },
  {
   "cell_type": "code",
   "execution_count": 49,
   "metadata": {},
   "outputs": [],
   "source": [
    "#df[\"f3_motor\"] = pd.read_csv(\"./results/f3_motor.csv\")"
   ]
  },
  {
   "cell_type": "code",
   "execution_count": 50,
   "metadata": {},
   "outputs": [],
   "source": [
    "drop_columns = get_drop_columns(df[\"hyundai\"], burak_mapping)"
   ]
  },
  {
   "cell_type": "code",
   "execution_count": 51,
   "metadata": {},
   "outputs": [
    {
     "data": {
      "text/plain": [
       "['CAPACITY', 'FUEL ECONOMY (CITY)', 'images']"
      ]
     },
     "execution_count": 51,
     "metadata": {},
     "output_type": "execute_result"
    }
   ],
   "source": [
    "drop_columns"
   ]
  },
  {
   "cell_type": "code",
   "execution_count": 52,
   "metadata": {},
   "outputs": [],
   "source": [
    "df[\"hyundai\"].drop(drop_columns ,axis=1 ,inplace=True)"
   ]
  },
  {
   "cell_type": "code",
   "execution_count": 53,
   "metadata": {},
   "outputs": [
    {
     "data": {
      "text/plain": [
       "TIMESTAMP                                                         1576709498\n",
       "LINK                       http://cars.hyundai.com.au/view.php/used_cars/...\n",
       "MAKE                                                                 Hyundai\n",
       "MODEL                                                                 Accent\n",
       "YEAR                                                                    2017\n",
       "BADGE                                                        Sport Hatchback\n",
       "ENGINE                                                     1.6L  4 Cylinders\n",
       "COMMENTS                   Extremely popular five door hatch with the rel...\n",
       "DEALER NAME                                              John Hughes Hyundai\n",
       "LOCATION                         2 Teddington Street Victoria Park, WA, 6100\n",
       "PRICE                                                                $16,999\n",
       "VEHICLE FEATURES           16 Inch Alloy Wheels,High Mounted Rear Stop Li...\n",
       "TITLE                      2017 Hyundai Accent RB5 MY17 Sport Red 6 Speed...\n",
       "EXTERIOR COLOUR                                                         Red \n",
       "DOORS                                                                      5\n",
       "SEATS                                                                      5\n",
       "CYLINDERS                                                                  4\n",
       "FUEL TYPE                                                 Petrol - Unleaded \n",
       "GEARS                                                                6 Speed\n",
       "GEARBOX                                                     Sports Automatic\n",
       "TRANSMISSION                                                       Automatic\n",
       "ODOMETER                                                             28,365 \n",
       "DRIVE TYPE                                                              FWD \n",
       "REGO                                                                1GIG131 \n",
       "STOCK NO                                                              369348\n",
       "VIN                                                        KMHCT51EMHU351471\n",
       "ANCAP RATING                                                        Total: 5\n",
       "CO2 EMISSIONS                                                       154 g/Km\n",
       "FUEL ECONOMY (HIGHWAY)                                          5.1 L/100Km \n",
       "FUEL ECONOMY (COMBINED)                                         6.6 L/100Km \n",
       "Name: 0, dtype: object"
      ]
     },
     "execution_count": 53,
     "metadata": {},
     "output_type": "execute_result"
    }
   ],
   "source": [
    "df[\"hyundai\"].iloc[0]"
   ]
  },
  {
   "cell_type": "code",
   "execution_count": 54,
   "metadata": {},
   "outputs": [],
   "source": [
    "#df[\"jeep\"] = pd.read_csv(\"./results/jeep.csv\")"
   ]
  },
  {
   "cell_type": "code",
   "execution_count": 55,
   "metadata": {},
   "outputs": [],
   "source": [
    "drop_columns = get_drop_columns(df[\"jeep\"], burak_mapping)"
   ]
  },
  {
   "cell_type": "code",
   "execution_count": 56,
   "metadata": {},
   "outputs": [
    {
     "data": {
      "text/plain": [
       "['TYPE', 'ENGINE/FUEL', 'FUEL TYPE DESCRIPTION']"
      ]
     },
     "execution_count": 56,
     "metadata": {},
     "output_type": "execute_result"
    }
   ],
   "source": [
    "drop_columns"
   ]
  },
  {
   "cell_type": "code",
   "execution_count": 57,
   "metadata": {},
   "outputs": [],
   "source": [
    "df[\"jeep\"].drop(drop_columns ,axis=1 ,inplace=True)"
   ]
  },
  {
   "cell_type": "code",
   "execution_count": 58,
   "metadata": {},
   "outputs": [],
   "source": [
    "df[\"jeep\"][\"YEAR\"] = df[\"jeep\"][\"TITLE\"].apply(lambda value: value.split(\" \")[0])"
   ]
  },
  {
   "cell_type": "code",
   "execution_count": 59,
   "metadata": {},
   "outputs": [
    {
     "data": {
      "text/plain": [
       "LINK                       https://www.andrewmiedeckejeep.com.au/demo-car...\n",
       "PRICE                                                                $61,777\n",
       "DEALER NAME                                             ANDREW MIEDECKE JEEP\n",
       "MAKE                                                                    JEEP\n",
       "LOCATION                   100 Hastings River Drive Port Macquarie, NSW 2444\n",
       "COMMENTS                   2019 Jeep Grand Cherokee Night Eagle Diesel De...\n",
       "TIMESTAMP                                                         1576621930\n",
       "TRANSMISSION                                                       Automatic\n",
       "BODY TYPE                                                              Wagon\n",
       "ODOMETER                                                            2,741 km\n",
       "TITLE                       2019 Jeep Grand Cherokee Wagon (Granite Crystal)\n",
       "SERIES                                                                    WK\n",
       "EXTERIOR COLOUR                                       Granite Crystal (Grey)\n",
       "VIN                                                        1C4RJFEM7KC699504\n",
       "STOCK NO                                                               32425\n",
       "REGO EXPIRY                                                        June 2020\n",
       "CYLINDERS                                                                  6\n",
       "ENGINE                                                                     3\n",
       "ENGINE SIZE (CC)                                                     2987 cc\n",
       "POWER                                                                    184\n",
       "DRIVE TYPE                                                    4X4 Dual Range\n",
       "FUEL ECONOMY (COMBINED)                                                  7.5\n",
       "FUEL TYPE                                                             Diesel\n",
       "INDUCTION TYPE                                             Turbo Intercooled\n",
       "MODEL                                                         GRAND CHEROKEE\n",
       "YEAR                                                                    2019\n",
       "Name: 0, dtype: object"
      ]
     },
     "execution_count": 59,
     "metadata": {},
     "output_type": "execute_result"
    }
   ],
   "source": [
    "df[\"jeep\"].iloc[0]"
   ]
  },
  {
   "cell_type": "code",
   "execution_count": null,
   "metadata": {},
   "outputs": [],
   "source": []
  },
  {
   "cell_type": "code",
   "execution_count": null,
   "metadata": {},
   "outputs": [],
   "source": []
  },
  {
   "cell_type": "code",
   "execution_count": 60,
   "metadata": {},
   "outputs": [],
   "source": [
    "#df[\"mercedes\"] = pd.read_csv(\"./results/mercedes.csv\")"
   ]
  },
  {
   "cell_type": "code",
   "execution_count": 61,
   "metadata": {},
   "outputs": [],
   "source": [
    "drop_columns = get_drop_columns(df[\"mercedes\"], burak_mapping)"
   ]
  },
  {
   "cell_type": "code",
   "execution_count": 62,
   "metadata": {},
   "outputs": [
    {
     "data": {
      "text/plain": [
       "['images']"
      ]
     },
     "execution_count": 62,
     "metadata": {},
     "output_type": "execute_result"
    }
   ],
   "source": [
    "drop_columns"
   ]
  },
  {
   "cell_type": "code",
   "execution_count": 63,
   "metadata": {},
   "outputs": [],
   "source": [
    "df[\"mercedes\"].drop(drop_columns ,axis=1 ,inplace=True)"
   ]
  },
  {
   "cell_type": "code",
   "execution_count": 64,
   "metadata": {},
   "outputs": [
    {
     "data": {
      "text/plain": [
       "0    2013\n",
       "Name: YEAR, dtype: int64"
      ]
     },
     "execution_count": 64,
     "metadata": {},
     "output_type": "execute_result"
    }
   ],
   "source": [
    "df[\"mercedes\"][\"YEAR\"]"
   ]
  },
  {
   "cell_type": "code",
   "execution_count": 65,
   "metadata": {},
   "outputs": [
    {
     "data": {
      "text/plain": [
       "TIMESTAMP                                                   1576707765\n",
       "TITLE                                   2013 Mercedes-Benz B 180 Hatch\n",
       "LINK                 https://www.pre-owned.mercedes-benz.com.au/det...\n",
       "MAKE                                                          Mercedes\n",
       "PRICE                                                          $16,990\n",
       "FUEL ECONOMY                                               5.8 L/100km\n",
       "DEALER NAME                   Mercedes-Benz Toowong Pre-Owned Vehicles\n",
       "LOCATION             Cnr Harrys Road and Moggil Road, Taringa QLD 4068\n",
       "COMMENTS             Buy with confidence from a Mercedes-Benz deale...\n",
       "VEHICLE FEATURES     Audio - AAC Decoder,Audio - Aux Input Socket (...\n",
       "SERIES                                                         B Class\n",
       "MODEL                                                            B 180\n",
       "BODY TYPE                                                        Hatch\n",
       "EXTERIOR COLOUR                                            Jupiter Red\n",
       "ODOMETER                                                     72,900 KM\n",
       "YEAR                                                              2013\n",
       "ENGINE                                                      4 Cyl 1.6L\n",
       "FUEL TYPE                                                       Petrol\n",
       "TRANSMISSION                                                 Automatic\n",
       "DRIVE TYPE                                           Front Wheel Drive\n",
       "DOORS                                                                5\n",
       "SEATS                                                                5\n",
       "REGO                                                            154TDA\n",
       "REGO EXPIRY                                                  29/5/2020\n",
       "VIN                                                  WDD2462422J162255\n",
       "INDUCTION TYPE                                       Turbo Intercooled\n",
       "ANCAP RATING                                                         5\n",
       "GREENHOUSE RATING                                                    8\n",
       "GREEN STAR RATING                                                  4.5\n",
       "Name: 0, dtype: object"
      ]
     },
     "execution_count": 65,
     "metadata": {},
     "output_type": "execute_result"
    }
   ],
   "source": [
    "df[\"mercedes\"].iloc[0]"
   ]
  },
  {
   "cell_type": "code",
   "execution_count": 66,
   "metadata": {},
   "outputs": [],
   "source": [
    "#burak_mapping.append(\"GREENHOUSE RATING\")"
   ]
  },
  {
   "cell_type": "code",
   "execution_count": 67,
   "metadata": {},
   "outputs": [],
   "source": [
    "#df[\"mercedes\"] = pd.read_csv(\"./results/mercedes.csv\")"
   ]
  },
  {
   "cell_type": "code",
   "execution_count": 68,
   "metadata": {},
   "outputs": [],
   "source": [
    "drop_columns = get_drop_columns(df[\"nissan\"], burak_mapping)"
   ]
  },
  {
   "cell_type": "code",
   "execution_count": 69,
   "metadata": {},
   "outputs": [
    {
     "data": {
      "text/plain": [
       "['REG EXPIRY', 'images']"
      ]
     },
     "execution_count": 69,
     "metadata": {},
     "output_type": "execute_result"
    }
   ],
   "source": [
    "drop_columns"
   ]
  },
  {
   "cell_type": "code",
   "execution_count": 70,
   "metadata": {},
   "outputs": [],
   "source": [
    "df[\"nissan\"].drop(drop_columns ,axis=1 ,inplace=True)"
   ]
  },
  {
   "cell_type": "code",
   "execution_count": 71,
   "metadata": {},
   "outputs": [
    {
     "data": {
      "text/plain": [
       "TIMESTAMP                                                          1576708127\n",
       "LINK                        https://pre-owned.nissan.com.au/details/2016-n...\n",
       "MAKE                                                                   Nissan\n",
       "YEAR                                                                     2016\n",
       "PRICE                                                                 $14,990\n",
       "BADGE                                                                      ST\n",
       "DEALER NAME                                                     Aspley Nissan\n",
       "LOCATION                                   1383 Gympie Road,  Aspley QLD 4034\n",
       "COMMENTS                    QUICK! First, to see will buy; enquire now bef...\n",
       "VEHICLE FEATURES            Audio - Aux Input USB Socket,Audio - Input for...\n",
       "MODEL                                                                    JUKE\n",
       "BODY TYPE                                                               Hatch\n",
       "EXTERIOR COLOUR                                                   Ivory Pearl\n",
       "ODOMETER                                                            70,980 KM\n",
       "ENGINE                                                             4 Cyl 1.2L\n",
       "FUEL TYPE                                                              Petrol\n",
       "TRANSMISSION                                                           Manual\n",
       "DRIVE TYPE                                                  Front Wheel Drive\n",
       "DOORS                                                                       5\n",
       "SEATS                                                                       5\n",
       "REGO                                                                   676WLF\n",
       "VIN                                                         SJNFEAF15A7216983\n",
       "INDUCTION TYPE                                              Turbo Intercooled\n",
       "TOWING CAPACITY (BRAKED)                                               1200kg\n",
       "FUEL ECONOMY                                                      5.6 L/100km\n",
       "Name: 0, dtype: object"
      ]
     },
     "execution_count": 71,
     "metadata": {},
     "output_type": "execute_result"
    }
   ],
   "source": [
    "df[\"nissan\"].iloc[0]"
   ]
  },
  {
   "cell_type": "code",
   "execution_count": 72,
   "metadata": {},
   "outputs": [],
   "source": [
    "#burak_mapping.append(\"GREENHOUSE RATING\")"
   ]
  },
  {
   "cell_type": "code",
   "execution_count": 73,
   "metadata": {},
   "outputs": [],
   "source": [
    "#df[\"renault\"] = pd.read_csv(\"./results/renault.csv\")"
   ]
  },
  {
   "cell_type": "code",
   "execution_count": 74,
   "metadata": {},
   "outputs": [],
   "source": [
    "drop_columns = get_drop_columns(df[\"renault\"], burak_mapping)"
   ]
  },
  {
   "cell_type": "code",
   "execution_count": 75,
   "metadata": {},
   "outputs": [
    {
     "data": {
      "text/plain": [
       "['images']"
      ]
     },
     "execution_count": 75,
     "metadata": {},
     "output_type": "execute_result"
    }
   ],
   "source": [
    "drop_columns"
   ]
  },
  {
   "cell_type": "code",
   "execution_count": 76,
   "metadata": {},
   "outputs": [],
   "source": [
    "df[\"renault\"].drop(drop_columns ,axis=1 ,inplace=True)"
   ]
  },
  {
   "cell_type": "code",
   "execution_count": 77,
   "metadata": {},
   "outputs": [
    {
     "data": {
      "text/plain": [
       "TIMESTAMP                                                                           1576663412\n",
       "LINK                                         http://approvedused.renault.com.au/details/201...\n",
       "MAKE                                                                                   Renault\n",
       "MODEL                                                                                   captur\n",
       "BADGE                                                                                      zen\n",
       "YEAR                                                                                      2019\n",
       "COMMENTS                                     *Please read full ad - Balance Of 5 Year New C...\n",
       "PRICE                                                                       $24,990 Drive Away\n",
       "TRANSMISSION                                                                         Automatic\n",
       "ODOMETER                                                                               300 kms\n",
       "EXTERIOR COLOUR                                                                          White\n",
       "BODY TYPE                                                                                  SUV\n",
       "FUEL TYPE                                                                 Petrol - Premium ULP\n",
       "REGO                                                                                    BAO788\n",
       "VIN                                                                          VF12R251AK0791643\n",
       "TITLE                                                             2019 Renault Captur Zen Auto\n",
       "DRIVE TYPE                                                                   Front Wheel Drive\n",
       "DOORS                                                                                        5\n",
       "SEATS                                                                                        5\n",
       "ENGINE SIZE (CC)                                                                       1332 cc\n",
       "ENGINE TYPE                                                                             Piston\n",
       "COMPLIANCE DATE                                                                     June, 2019\n",
       "TOWING CAPACITY (BRAKED)                                                                900 kg\n",
       "TOWING CAPACITY (UNBRAKED)                                                              675 kg\n",
       "CYLINDERS                                                                                    4\n",
       "POWER                                                                                   110 kW\n",
       "GEARS                                                                                        6\n",
       "FUEL ECONOMY (COMBINED)                                                            5.4 L/100km\n",
       "WARRANTY IN YEARS FROM FIRST REGISTRATION                                                 5 yr\n",
       "WARRANTY IN KM                                                                    Unlimited km\n",
       "VEHICLE TYPE                                                                         Passenger\n",
       "P PLATE STATUS                                                 NSW Probationary Status Allowed\n",
       "Name: 0, dtype: object"
      ]
     },
     "execution_count": 77,
     "metadata": {},
     "output_type": "execute_result"
    }
   ],
   "source": [
    "df[\"renault\"].iloc[0]"
   ]
  },
  {
   "cell_type": "code",
   "execution_count": 78,
   "metadata": {},
   "outputs": [],
   "source": [
    "#burak_mapping.append(\"GREENHOUSE RATING\")"
   ]
  },
  {
   "cell_type": "code",
   "execution_count": 79,
   "metadata": {},
   "outputs": [],
   "source": [
    "#df[\"renault\"] = pd.read_csv(\"./results/renault.csv\")"
   ]
  },
  {
   "cell_type": "code",
   "execution_count": 80,
   "metadata": {},
   "outputs": [],
   "source": [
    "drop_columns = get_drop_columns(df[\"slattery\"], burak_mapping)"
   ]
  },
  {
   "cell_type": "code",
   "execution_count": 81,
   "metadata": {},
   "outputs": [
    {
     "data": {
      "text/plain": [
       "['BUYER NOTE', 'EXTRAS']"
      ]
     },
     "execution_count": 81,
     "metadata": {},
     "output_type": "execute_result"
    }
   ],
   "source": [
    "drop_columns"
   ]
  },
  {
   "cell_type": "code",
   "execution_count": 82,
   "metadata": {},
   "outputs": [],
   "source": [
    "df[\"slattery\"].drop(drop_columns ,axis=1 ,inplace=True)"
   ]
  },
  {
   "cell_type": "code",
   "execution_count": 83,
   "metadata": {},
   "outputs": [],
   "source": [
    "df[\"slattery\"][\"YEAR\"] = df[\"slattery\"][\"TITLE\"].apply(lambda value: value.split(\" \")[0])"
   ]
  },
  {
   "cell_type": "code",
   "execution_count": 84,
   "metadata": {},
   "outputs": [
    {
     "data": {
      "text/plain": [
       "TITLE                                      2017 LAMBORGHINI AVENTADOR\n",
       "LINK                https://www.slatteryauctions.com.au/product/44...\n",
       "TIMESTAMP                                                  1576704909\n",
       "DEALER NAME                                         Slattery Auctions\n",
       "LOCATION                6-8 Waterview Close, Dandenong South VIC 3175\n",
       "VIN                                                 ZHWET3ZD9HLA06405\n",
       "ENGINE NUMBER                                               L53906796\n",
       "EXTERIOR COLOUR                                                  GREY\n",
       "ODOMETER                                                         7037\n",
       "COMPLIANCE DATE                                            01/06/2017\n",
       "MAKE                                                      LAMBORGHINI\n",
       "MODEL                                                       AVENTADOR\n",
       "BADGE                                             LP750-4 SUPERVELOCE\n",
       "ENGINE                                     6.5L V12 MULTI POINT F/INJ\n",
       "BODY TYPE                                                 2D ROADSTER\n",
       "TRANSMISSION                                   7 SP AUTO DIRECT SHIFT\n",
       "STEERING                               RACK & PINION - POWER ASSISTED\n",
       "INTERIOR COND                                                    GOOD\n",
       "CARPET COND                                                      GOOD\n",
       "TRIM COND                                                        GOOD\n",
       "BODY COND                                                        GOOD\n",
       "SEAT COND                                                        GOOD\n",
       "PAINT COND                                                       GOOD\n",
       "BRAKE COND                                                       GOOD\n",
       "MECHANICAL COND                                                  GOOD\n",
       "RUST COND                                                         NIL\n",
       "VEHICLE FEATURES    Key,A/C,ABS,Power Windows,Drivable,Central Loc...\n",
       "YEAR                                                             2017\n",
       "Name: 0, dtype: object"
      ]
     },
     "execution_count": 84,
     "metadata": {},
     "output_type": "execute_result"
    }
   ],
   "source": [
    "df[\"slattery\"].iloc[0]"
   ]
  },
  {
   "cell_type": "code",
   "execution_count": 85,
   "metadata": {},
   "outputs": [],
   "source": [
    "#burak_mapping.append(\"GREENHOUSE RATING\")"
   ]
  },
  {
   "cell_type": "code",
   "execution_count": 86,
   "metadata": {},
   "outputs": [],
   "source": [
    "#df[\"renault\"] = pd.read_csv(\"./results/renault.csv\")"
   ]
  },
  {
   "cell_type": "code",
   "execution_count": 87,
   "metadata": {},
   "outputs": [],
   "source": [
    "drop_columns = get_drop_columns(df[\"subaru\"], burak_mapping)"
   ]
  },
  {
   "cell_type": "code",
   "execution_count": 88,
   "metadata": {},
   "outputs": [
    {
     "data": {
      "text/plain": [
       "['NUMBER OF AIRBAGS',\n",
       " 'ENGINE SIZE (L)',\n",
       " 'GENERIC GEAR TYPE',\n",
       " 'FUEL ECONOMY (CITY)',\n",
       " 'EMISSION STANDARD',\n",
       " 'FRONT TYRE DESCRIPTION',\n",
       " 'REAR TYRE DESCRIPTION',\n",
       " 'NSW PROBATIONARY STATUS',\n",
       " 'FUEL COST PER 1000KM',\n",
       " 'FUEL COST PER FILL',\n",
       " 'images']"
      ]
     },
     "execution_count": 88,
     "metadata": {},
     "output_type": "execute_result"
    }
   ],
   "source": [
    "drop_columns"
   ]
  },
  {
   "cell_type": "code",
   "execution_count": 89,
   "metadata": {},
   "outputs": [],
   "source": [
    "df[\"subaru\"].drop(drop_columns ,axis=1 ,inplace=True)"
   ]
  },
  {
   "cell_type": "code",
   "execution_count": 90,
   "metadata": {},
   "outputs": [
    {
     "data": {
      "text/plain": [
       "TIMESTAMP                                                                           1576708237\n",
       "TITLE                                                 2019 Subaru WRX Premium V1 Auto AWD MY19\n",
       "LINK                                         https://www.subaru.com.au/used/details/subaru-...\n",
       "MAKE                                                                                    Subaru\n",
       "PRICE                                                               $43,990 Plus on-road costs\n",
       "DEALER NAME                                                                        Peel Subaru\n",
       "LOCATION                                                         16 Panton Rd Mandurah WA 6210\n",
       "COMMENTS                                     Auto 2019 Subaru WRX V1 Premium Sedan 4dr Line...\n",
       "VEHICLE FEATURES                             AAC Decoder,Aux Input Socket (MP3/CD/Cassette)...\n",
       "MODEL                                                                                      WRX\n",
       "BODY TYPE                                                                                Sedan\n",
       "EXTERIOR COLOUR                                                                           Blue\n",
       "ODOMETER                                                                              6,749 KM\n",
       "YEAR                                                                                      2019\n",
       "ENGINE                                                                              4 Cyl 2.0L\n",
       "FUEL TYPE                                                                 Petrol - Premium ULP\n",
       "TRANSMISSION                                                                      Lineartronic\n",
       "DRIVE TYPE                                                                     All Wheel Drive\n",
       "DOORS                                                                                        4\n",
       "SEATS                                                                                        5\n",
       "REGO                                                                                   1GWV456\n",
       "VIN                                                                          JF1VAGK85KG025319\n",
       "ANCAP RATING                                                                                 5\n",
       "ENGINE TYPE                                                                             Piston\n",
       "ENGINE LOCATION                                                                          Front\n",
       "ENGINE SIZE (CC)                                                                          1998\n",
       "INDUCTION TYPE                                                               Turbo Intercooled\n",
       "ENGINE CONFIGURATION                                                                Horizontal\n",
       "CYLINDERS                                                                                    4\n",
       "CAMSHAFT                                                                         DOHC with VVT\n",
       "                                                                   ...                        \n",
       "CO2 URBAN                                                                                  269\n",
       "STEERING                                                                       Rack and Pinion\n",
       "RIMS                                                                                     Alloy\n",
       "FRONT RIM DESCRIPTION                                                                   18x8.5\n",
       "REAR RIM DESCRIPTION                                                                    18x8.5\n",
       "LENGTH                                                                                    4595\n",
       "WIDTH                                                                                     1795\n",
       "HEIGHT                                                                                    1475\n",
       "WHEEL BASE                                                                                2650\n",
       "TRACK FRONT                                                                               1530\n",
       "TRACK REAR                                                                                1540\n",
       "TURNING CIRCLE BETWEEN KERBS                                                                11\n",
       "GROUND CLEARANCE                                                                           135\n",
       "TARE MASS                                                                                 1532\n",
       "KERB WEIGHT                                                                               1572\n",
       "BOOT / LOAD SPACE MIN (L)                                                                  460\n",
       "WARRANTY IN YEARS FROM FIRST REGISTRATION                                                    5\n",
       "WARRANTY IN KM                                                                       Unlimited\n",
       "WARRANTY CUSTOMER ASSISTANCE                                                   1 year roadside\n",
       "FIRST SERVICE DUE IN KM                                                                  12500\n",
       "FIRST SERVICE DUE IN MONTHS                                                                  6\n",
       "REGULAR SERVICE INTERVAL IN KM                                                           12500\n",
       "REGULAR SERVICE INTERVAL IN MONTHS                                                           6\n",
       "COUNTRY OF ORIGIN                                                                        JAPAN\n",
       "LAUNCH YEAR                                                                               2018\n",
       "LAUNCH MONTH                                                                                 6\n",
       "GENERATION NAME                                                                             V1\n",
       "SERIES                                                                                      V1\n",
       "MODEL YEAR                                                                                MY19\n",
       "BADGE                                                                                  Premium\n",
       "Name: 0, Length: 81, dtype: object"
      ]
     },
     "execution_count": 90,
     "metadata": {},
     "output_type": "execute_result"
    }
   ],
   "source": [
    "df[\"subaru\"].iloc[0]"
   ]
  },
  {
   "cell_type": "code",
   "execution_count": 91,
   "metadata": {},
   "outputs": [],
   "source": [
    "burak_mapping.append(\"FUEL ECONOMY (CITY)\")"
   ]
  },
  {
   "cell_type": "code",
   "execution_count": 92,
   "metadata": {},
   "outputs": [],
   "source": [
    "#df[\"renault\"] = pd.read_csv(\"./results/renault.csv\")"
   ]
  },
  {
   "cell_type": "code",
   "execution_count": 93,
   "metadata": {},
   "outputs": [],
   "source": [
    "drop_columns = get_drop_columns(df[\"toyota\"], burak_mapping)"
   ]
  },
  {
   "cell_type": "code",
   "execution_count": 94,
   "metadata": {},
   "outputs": [
    {
     "data": {
      "text/plain": [
       "['POWER RPM FROM', 'RESEARCH OCTANE NUMBER', 'images']"
      ]
     },
     "execution_count": 94,
     "metadata": {},
     "output_type": "execute_result"
    }
   ],
   "source": [
    "drop_columns"
   ]
  },
  {
   "cell_type": "code",
   "execution_count": 95,
   "metadata": {},
   "outputs": [],
   "source": [
    "df[\"toyota\"].drop(drop_columns ,axis=1 ,inplace=True)"
   ]
  },
  {
   "cell_type": "code",
   "execution_count": 96,
   "metadata": {},
   "outputs": [
    {
     "data": {
      "text/plain": [
       "LINK                                         https://www.toyota.com.au/used-cars/for-sale/4...\n",
       "MAKE                                                                                    Toyota\n",
       "YEAR                                                                                      2018\n",
       "TIMESTAMP                                                                           1576705819\n",
       "ODOMETER                                                                             48,345 km\n",
       "TRANSMISSION                                                                              Auto\n",
       "ENGINE                                                                               4cyl 1.2L\n",
       "COMMENTS                                     TOYOTA CERTIFIED USED VEHICLES   KNOW WHAT YOU...\n",
       "DEALER NAME                                                                      Oldmac Toyota\n",
       "LOCATION                                                  3376 Pacific Highway SPRINGWOOD, QLD\n",
       "VEHICLE FEATURES                             Air Cond. - Climate Control 2 Zone,Control - P...\n",
       "BODY TYPE                                                                                Wagon\n",
       "MODEL                                                                                   NGX10R\n",
       "DRIVE TYPE                                                                                 FWD\n",
       "EXTERIOR COLOUR                                                                          Green\n",
       "FUEL TYPE                                                                               Petrol\n",
       "DOORS                                                                                        5\n",
       "SEATS                                                                                        5\n",
       "REGO                                                                                    529ZHB\n",
       "VIN                                                                          JTNKY3BX39#######\n",
       "REGO EXPIRY                                                                            06/2020\n",
       "GROSS COMBINATION MASS                                                                    2465\n",
       "GROSS VEHICLE MASS                                                                        1865\n",
       "WHEEL BASE                                                                                2640\n",
       "HEIGHT                                                                                    1565\n",
       "LENGTH                                                                                    4360\n",
       "WIDTH                                                                                     1795\n",
       "KERB WEIGHT                                                                               1440\n",
       "TARE MASS                                                                                 1410\n",
       "PAY LOAD                                                                                   480\n",
       "                                                                   ...                        \n",
       "TORQUE RPM TO                                                                             4000\n",
       "ENGINE NUMBER                                                                      8NR #######\n",
       "ENGINE CODE                                                                            8NR-FTS\n",
       "VALVES PER CYLINDER                                                                          4\n",
       "ENGINE CYCLE                                                                          4 Stroke\n",
       "ENGINE CONFIGURATION                                                                   In-line\n",
       "ENGINE LOCATION                                                                          Front\n",
       "COMPRESSION RATIO                                                                           10\n",
       "FUEL DELIVERY                                                                 Direct Injection\n",
       "INDUCTION TYPE                                                               Turbo Intercooled\n",
       "FUEL CAPACITY                                                                               50\n",
       "METHOD OF DELIVERY                                                       Electronic Sequential\n",
       "CO2 COMBINED                                                                               144\n",
       "CO2 URBAN                                                                                  177\n",
       "CO2 EXTRA URBAN                                                                            124\n",
       "FUEL ECONOMY (CITY)                                                                        7.9\n",
       "FUEL ECONOMY (HIGHWAY)                                                                     5.5\n",
       "FUEL ECONOMY (COMBINED)                                                                    6.4\n",
       "STEERING                                                                       Rack and Pinion\n",
       "FRONT TYRE SIZE                                                                     215/60 R17\n",
       "REAR TYRE SIZE                                                                      215/60 R17\n",
       "FRONT RIM DESCRIPTION                                                                   17x6.5\n",
       "REAR RIM DESCRIPTION                                                                    17x6.5\n",
       "RIMS                                                                                     Alloy\n",
       "WARRANTY IN YEARS FROM FIRST REGISTRATION                                                    3\n",
       "WARRANTY IN KM                                                                          100000\n",
       "REGULAR SERVICE INTERVAL IN KM                                                           15000\n",
       "REGULAR SERVICE INTERVAL IN MONTHS                                                          12\n",
       "ANCAP RATING                                                                                 5\n",
       "P PLATE STATUS                                                                               T\n",
       "Name: 0, Length: 75, dtype: object"
      ]
     },
     "execution_count": 96,
     "metadata": {},
     "output_type": "execute_result"
    }
   ],
   "source": [
    "df[\"toyota\"].iloc[0]"
   ]
  },
  {
   "cell_type": "code",
   "execution_count": 97,
   "metadata": {},
   "outputs": [],
   "source": [
    "#burak_mapping.append(\"GREENHOUSE RATING\")"
   ]
  },
  {
   "cell_type": "code",
   "execution_count": null,
   "metadata": {},
   "outputs": [],
   "source": []
  },
  {
   "cell_type": "code",
   "execution_count": 98,
   "metadata": {},
   "outputs": [],
   "source": [
    "drop_columns = get_drop_columns(df[\"valley_motor\"], burak_mapping)"
   ]
  },
  {
   "cell_type": "code",
   "execution_count": 99,
   "metadata": {},
   "outputs": [
    {
     "data": {
      "text/plain": [
       "['images']"
      ]
     },
     "execution_count": 99,
     "metadata": {},
     "output_type": "execute_result"
    }
   ],
   "source": [
    "drop_columns"
   ]
  },
  {
   "cell_type": "code",
   "execution_count": 100,
   "metadata": {},
   "outputs": [],
   "source": [
    "df[\"valley_motor\"].drop(drop_columns ,axis=1 ,inplace=True)"
   ]
  },
  {
   "cell_type": "code",
   "execution_count": 101,
   "metadata": {},
   "outputs": [
    {
     "data": {
      "text/plain": [
       "TIMESTAMP                                                  1576708381\n",
       "TITLE                                       2017 ISUZU D-MAX SX (4x4)\n",
       "LINK                http://www.valleymotorauctions.com.au/cp_veh_i...\n",
       "MAKE                                                            ISUZU\n",
       "YEAR                                                             2017\n",
       "FUEL TYPE                                                      DIESEL\n",
       "ANCAP RATING                                                        5\n",
       "BODY TYPE                                                 CREW C/CHAS\n",
       "TRANSMISSION                                           6 SP AUTOMATIC\n",
       "REGO                                                           CT67JY\n",
       "REGO EXPIRY                                   UNREGISTERED 26/09/2019\n",
       "STOCK NO                                                       250969\n",
       "DEALER NAME                                     Valley Motor Auctions\n",
       "LOCATION                           47 Munibung Road, Cardiff NSW 2285\n",
       "COMMENTS            turbo diesel auto 4x4 trayback with full servi...\n",
       "VEHICLE FEATURES    Elec Brake Force Distribution,Head Airbags,Ele...\n",
       "COMPLIANCE DATE                                                 10/17\n",
       "ODOMETER                                                        47810\n",
       "BADGE                                                        SX (4x4)\n",
       "ENGINE SIZE (CC)                                                 3.0L\n",
       "EXTERIOR COLOUR                                                 WHITE\n",
       "SERIES                                                        TF MY17\n",
       "ENGINE NUMBER                                                  RM8004\n",
       "VIN                                                 MPATFS85JHT010315\n",
       "Name: 0, dtype: object"
      ]
     },
     "execution_count": 101,
     "metadata": {},
     "output_type": "execute_result"
    }
   ],
   "source": [
    "df[\"valley_motor\"].iloc[0]"
   ]
  },
  {
   "cell_type": "markdown",
   "metadata": {},
   "source": [
    "## Merge dataframes"
   ]
  },
  {
   "cell_type": "code",
   "execution_count": 102,
   "metadata": {},
   "outputs": [
    {
     "name": "stderr",
     "output_type": "stream",
     "text": [
      "/home/saronida/anaconda3/lib/python3.7/site-packages/ipykernel_launcher.py:1: FutureWarning: Sorting because non-concatenation axis is not aligned. A future version\n",
      "of pandas will change to not sort by default.\n",
      "\n",
      "To accept the future behavior, pass 'sort=False'.\n",
      "\n",
      "To retain the current behavior and silence the warning, pass 'sort=True'.\n",
      "\n",
      "  \"\"\"Entry point for launching an IPython kernel.\n"
     ]
    }
   ],
   "source": [
    "first_example_df = pd.concat([df[file][0:1] for file in df.keys()])"
   ]
  },
  {
   "cell_type": "code",
   "execution_count": 103,
   "metadata": {},
   "outputs": [],
   "source": [
    "first_example_df.reset_index(inplace=True, drop=True)"
   ]
  },
  {
   "cell_type": "code",
   "execution_count": 104,
   "metadata": {},
   "outputs": [
    {
     "data": {
      "text/html": [
       "<div>\n",
       "<style scoped>\n",
       "    .dataframe tbody tr th:only-of-type {\n",
       "        vertical-align: middle;\n",
       "    }\n",
       "\n",
       "    .dataframe tbody tr th {\n",
       "        vertical-align: top;\n",
       "    }\n",
       "\n",
       "    .dataframe thead th {\n",
       "        text-align: right;\n",
       "    }\n",
       "</style>\n",
       "<table border=\"1\" class=\"dataframe\">\n",
       "  <thead>\n",
       "    <tr style=\"text-align: right;\">\n",
       "      <th></th>\n",
       "      <th>ACCELERATION 0-100KM/H</th>\n",
       "      <th>ANCAP RATING</th>\n",
       "      <th>BADGE</th>\n",
       "      <th>BATTERY</th>\n",
       "      <th>BODY COND</th>\n",
       "      <th>BODY TYPE</th>\n",
       "      <th>BOOT / LOAD SPACE MIN (L)</th>\n",
       "      <th>BRAKE COND</th>\n",
       "      <th>BRAKES</th>\n",
       "      <th>CAMSHAFT</th>\n",
       "      <th>...</th>\n",
       "      <th>VEHICLE TYPE</th>\n",
       "      <th>VIN</th>\n",
       "      <th>WARRANTY CUSTOMER ASSISTANCE</th>\n",
       "      <th>WARRANTY IN KM</th>\n",
       "      <th>WARRANTY IN YEARS FROM FIRST REGISTRATION</th>\n",
       "      <th>WHEEL BASE</th>\n",
       "      <th>WIDTH</th>\n",
       "      <th>WINDSCREEN</th>\n",
       "      <th>YEAR</th>\n",
       "      <th>images</th>\n",
       "    </tr>\n",
       "  </thead>\n",
       "  <tbody>\n",
       "    <tr>\n",
       "      <th>0</th>\n",
       "      <td>NaN</td>\n",
       "      <td>5 star</td>\n",
       "      <td>NaN</td>\n",
       "      <td>NaN</td>\n",
       "      <td>NaN</td>\n",
       "      <td>Sedan</td>\n",
       "      <td>NaN</td>\n",
       "      <td>NaN</td>\n",
       "      <td>NaN</td>\n",
       "      <td>NaN</td>\n",
       "      <td>...</td>\n",
       "      <td>NaN</td>\n",
       "      <td>WAUZZZ8V9F1143739</td>\n",
       "      <td>NaN</td>\n",
       "      <td>NaN</td>\n",
       "      <td>NaN</td>\n",
       "      <td>NaN</td>\n",
       "      <td>NaN</td>\n",
       "      <td>NaN</td>\n",
       "      <td>2015</td>\n",
       "      <td>NaN</td>\n",
       "    </tr>\n",
       "    <tr>\n",
       "      <th>1</th>\n",
       "      <td>NaN</td>\n",
       "      <td>NaN</td>\n",
       "      <td>3.2</td>\n",
       "      <td>NaN</td>\n",
       "      <td>NaN</td>\n",
       "      <td>2D COUPE</td>\n",
       "      <td>NaN</td>\n",
       "      <td>NaN</td>\n",
       "      <td>NaN</td>\n",
       "      <td>NaN</td>\n",
       "      <td>...</td>\n",
       "      <td>NaN</td>\n",
       "      <td>ZAR93700003448322</td>\n",
       "      <td>NaN</td>\n",
       "      <td>NaN</td>\n",
       "      <td>NaN</td>\n",
       "      <td>NaN</td>\n",
       "      <td>NaN</td>\n",
       "      <td>NaN</td>\n",
       "      <td>2008</td>\n",
       "      <td>NaN</td>\n",
       "    </tr>\n",
       "    <tr>\n",
       "      <th>2</th>\n",
       "      <td>NaN</td>\n",
       "      <td>NaN</td>\n",
       "      <td>NaN</td>\n",
       "      <td>NaN</td>\n",
       "      <td>NaN</td>\n",
       "      <td>Sedan</td>\n",
       "      <td>NaN</td>\n",
       "      <td>NaN</td>\n",
       "      <td>NaN</td>\n",
       "      <td>NaN</td>\n",
       "      <td>...</td>\n",
       "      <td>NaN</td>\n",
       "      <td>WBA8E36030NT88810</td>\n",
       "      <td>NaN</td>\n",
       "      <td>NaN</td>\n",
       "      <td>NaN</td>\n",
       "      <td>NaN</td>\n",
       "      <td>NaN</td>\n",
       "      <td>NaN</td>\n",
       "      <td>2015</td>\n",
       "      <td>NaN</td>\n",
       "    </tr>\n",
       "    <tr>\n",
       "      <th>3</th>\n",
       "      <td>NaN</td>\n",
       "      <td>NaN</td>\n",
       "      <td>2</td>\n",
       "      <td>NaN</td>\n",
       "      <td>NaN</td>\n",
       "      <td>4D SEDAN</td>\n",
       "      <td>NaN</td>\n",
       "      <td>NaN</td>\n",
       "      <td>NaN</td>\n",
       "      <td>NaN</td>\n",
       "      <td>...</td>\n",
       "      <td>NaN</td>\n",
       "      <td>WAUZZZ8E78A130314</td>\n",
       "      <td>NaN</td>\n",
       "      <td>NaN</td>\n",
       "      <td>NaN</td>\n",
       "      <td>NaN</td>\n",
       "      <td>NaN</td>\n",
       "      <td>NaN</td>\n",
       "      <td>2008</td>\n",
       "      <td>NaN</td>\n",
       "    </tr>\n",
       "    <tr>\n",
       "      <th>4</th>\n",
       "      <td>NaN</td>\n",
       "      <td>NaN</td>\n",
       "      <td>NaN</td>\n",
       "      <td>NaN</td>\n",
       "      <td>NaN</td>\n",
       "      <td>HATCHBACK</td>\n",
       "      <td>NaN</td>\n",
       "      <td>NaN</td>\n",
       "      <td>NaN</td>\n",
       "      <td>NaN</td>\n",
       "      <td>...</td>\n",
       "      <td>NaN</td>\n",
       "      <td>NaN</td>\n",
       "      <td>NaN</td>\n",
       "      <td>NaN</td>\n",
       "      <td>NaN</td>\n",
       "      <td>NaN</td>\n",
       "      <td>NaN</td>\n",
       "      <td>NaN</td>\n",
       "      <td>2005</td>\n",
       "      <td>NaN</td>\n",
       "    </tr>\n",
       "    <tr>\n",
       "      <th>5</th>\n",
       "      <td>NaN</td>\n",
       "      <td>NaN</td>\n",
       "      <td>SPORTBACK 1.4 TFSI ATTRACTION</td>\n",
       "      <td>Yes</td>\n",
       "      <td>NaN</td>\n",
       "      <td>5D HATCHBACK</td>\n",
       "      <td>NaN</td>\n",
       "      <td>NaN</td>\n",
       "      <td>Good</td>\n",
       "      <td>NaN</td>\n",
       "      <td>...</td>\n",
       "      <td>NaN</td>\n",
       "      <td>WAUZZZ8P99A060883</td>\n",
       "      <td>NaN</td>\n",
       "      <td>NaN</td>\n",
       "      <td>NaN</td>\n",
       "      <td>NaN</td>\n",
       "      <td>NaN</td>\n",
       "      <td>Chipped</td>\n",
       "      <td>2008</td>\n",
       "      <td>NaN</td>\n",
       "    </tr>\n",
       "    <tr>\n",
       "      <th>6</th>\n",
       "      <td>NaN</td>\n",
       "      <td>NaN</td>\n",
       "      <td>16ti</td>\n",
       "      <td>NaN</td>\n",
       "      <td>NaN</td>\n",
       "      <td>3D HATCHBACK</td>\n",
       "      <td>NaN</td>\n",
       "      <td>NaN</td>\n",
       "      <td>NaN</td>\n",
       "      <td>NaN</td>\n",
       "      <td>...</td>\n",
       "      <td>NaN</td>\n",
       "      <td>WBAAT52060AH67531</td>\n",
       "      <td>NaN</td>\n",
       "      <td>NaN</td>\n",
       "      <td>NaN</td>\n",
       "      <td>NaN</td>\n",
       "      <td>NaN</td>\n",
       "      <td>NaN</td>\n",
       "      <td>2002</td>\n",
       "      <td>NaN</td>\n",
       "    </tr>\n",
       "    <tr>\n",
       "      <th>7</th>\n",
       "      <td>NaN</td>\n",
       "      <td>Total: 5</td>\n",
       "      <td>Sport Hatchback</td>\n",
       "      <td>NaN</td>\n",
       "      <td>NaN</td>\n",
       "      <td>NaN</td>\n",
       "      <td>NaN</td>\n",
       "      <td>NaN</td>\n",
       "      <td>NaN</td>\n",
       "      <td>NaN</td>\n",
       "      <td>...</td>\n",
       "      <td>NaN</td>\n",
       "      <td>KMHCT51EMHU351471</td>\n",
       "      <td>NaN</td>\n",
       "      <td>NaN</td>\n",
       "      <td>NaN</td>\n",
       "      <td>NaN</td>\n",
       "      <td>NaN</td>\n",
       "      <td>NaN</td>\n",
       "      <td>2017</td>\n",
       "      <td>NaN</td>\n",
       "    </tr>\n",
       "    <tr>\n",
       "      <th>8</th>\n",
       "      <td>NaN</td>\n",
       "      <td>NaN</td>\n",
       "      <td>NaN</td>\n",
       "      <td>NaN</td>\n",
       "      <td>NaN</td>\n",
       "      <td>Wagon</td>\n",
       "      <td>NaN</td>\n",
       "      <td>NaN</td>\n",
       "      <td>NaN</td>\n",
       "      <td>NaN</td>\n",
       "      <td>...</td>\n",
       "      <td>NaN</td>\n",
       "      <td>1C4RJFEM7KC699504</td>\n",
       "      <td>NaN</td>\n",
       "      <td>NaN</td>\n",
       "      <td>NaN</td>\n",
       "      <td>NaN</td>\n",
       "      <td>NaN</td>\n",
       "      <td>NaN</td>\n",
       "      <td>2019</td>\n",
       "      <td>NaN</td>\n",
       "    </tr>\n",
       "    <tr>\n",
       "      <th>9</th>\n",
       "      <td>NaN</td>\n",
       "      <td>5</td>\n",
       "      <td>NaN</td>\n",
       "      <td>NaN</td>\n",
       "      <td>NaN</td>\n",
       "      <td>Hatch</td>\n",
       "      <td>NaN</td>\n",
       "      <td>NaN</td>\n",
       "      <td>NaN</td>\n",
       "      <td>NaN</td>\n",
       "      <td>...</td>\n",
       "      <td>NaN</td>\n",
       "      <td>WDD2462422J162255</td>\n",
       "      <td>NaN</td>\n",
       "      <td>NaN</td>\n",
       "      <td>NaN</td>\n",
       "      <td>NaN</td>\n",
       "      <td>NaN</td>\n",
       "      <td>NaN</td>\n",
       "      <td>2013</td>\n",
       "      <td>NaN</td>\n",
       "    </tr>\n",
       "    <tr>\n",
       "      <th>10</th>\n",
       "      <td>NaN</td>\n",
       "      <td>NaN</td>\n",
       "      <td>ST</td>\n",
       "      <td>NaN</td>\n",
       "      <td>NaN</td>\n",
       "      <td>Hatch</td>\n",
       "      <td>NaN</td>\n",
       "      <td>NaN</td>\n",
       "      <td>NaN</td>\n",
       "      <td>NaN</td>\n",
       "      <td>...</td>\n",
       "      <td>NaN</td>\n",
       "      <td>SJNFEAF15A7216983</td>\n",
       "      <td>NaN</td>\n",
       "      <td>NaN</td>\n",
       "      <td>NaN</td>\n",
       "      <td>NaN</td>\n",
       "      <td>NaN</td>\n",
       "      <td>NaN</td>\n",
       "      <td>2016</td>\n",
       "      <td>NaN</td>\n",
       "    </tr>\n",
       "    <tr>\n",
       "      <th>11</th>\n",
       "      <td>NaN</td>\n",
       "      <td>NaN</td>\n",
       "      <td>zen</td>\n",
       "      <td>NaN</td>\n",
       "      <td>NaN</td>\n",
       "      <td>SUV</td>\n",
       "      <td>NaN</td>\n",
       "      <td>NaN</td>\n",
       "      <td>NaN</td>\n",
       "      <td>NaN</td>\n",
       "      <td>...</td>\n",
       "      <td>Passenger</td>\n",
       "      <td>VF12R251AK0791643</td>\n",
       "      <td>NaN</td>\n",
       "      <td>Unlimited km</td>\n",
       "      <td>5 yr</td>\n",
       "      <td>NaN</td>\n",
       "      <td>NaN</td>\n",
       "      <td>NaN</td>\n",
       "      <td>2019</td>\n",
       "      <td>NaN</td>\n",
       "    </tr>\n",
       "    <tr>\n",
       "      <th>12</th>\n",
       "      <td>NaN</td>\n",
       "      <td>NaN</td>\n",
       "      <td>LP750-4 SUPERVELOCE</td>\n",
       "      <td>NaN</td>\n",
       "      <td>GOOD</td>\n",
       "      <td>2D ROADSTER</td>\n",
       "      <td>NaN</td>\n",
       "      <td>GOOD</td>\n",
       "      <td>NaN</td>\n",
       "      <td>NaN</td>\n",
       "      <td>...</td>\n",
       "      <td>NaN</td>\n",
       "      <td>ZHWET3ZD9HLA06405</td>\n",
       "      <td>NaN</td>\n",
       "      <td>NaN</td>\n",
       "      <td>NaN</td>\n",
       "      <td>NaN</td>\n",
       "      <td>NaN</td>\n",
       "      <td>NaN</td>\n",
       "      <td>2017</td>\n",
       "      <td>NaN</td>\n",
       "    </tr>\n",
       "    <tr>\n",
       "      <th>13</th>\n",
       "      <td>6.3</td>\n",
       "      <td>5</td>\n",
       "      <td>Premium</td>\n",
       "      <td>NaN</td>\n",
       "      <td>NaN</td>\n",
       "      <td>Sedan</td>\n",
       "      <td>460.0</td>\n",
       "      <td>NaN</td>\n",
       "      <td>NaN</td>\n",
       "      <td>DOHC with VVT</td>\n",
       "      <td>...</td>\n",
       "      <td>NaN</td>\n",
       "      <td>JF1VAGK85KG025319</td>\n",
       "      <td>1 year roadside</td>\n",
       "      <td>Unlimited</td>\n",
       "      <td>5</td>\n",
       "      <td>2650.0</td>\n",
       "      <td>1795.0</td>\n",
       "      <td>NaN</td>\n",
       "      <td>2019</td>\n",
       "      <td>NaN</td>\n",
       "    </tr>\n",
       "    <tr>\n",
       "      <th>14</th>\n",
       "      <td>NaN</td>\n",
       "      <td>5</td>\n",
       "      <td>NaN</td>\n",
       "      <td>NaN</td>\n",
       "      <td>NaN</td>\n",
       "      <td>Wagon</td>\n",
       "      <td>NaN</td>\n",
       "      <td>NaN</td>\n",
       "      <td>NaN</td>\n",
       "      <td>DOHC with VVT</td>\n",
       "      <td>...</td>\n",
       "      <td>NaN</td>\n",
       "      <td>JTNKY3BX39#######</td>\n",
       "      <td>NaN</td>\n",
       "      <td>100000</td>\n",
       "      <td>3</td>\n",
       "      <td>2640.0</td>\n",
       "      <td>1795.0</td>\n",
       "      <td>NaN</td>\n",
       "      <td>2018</td>\n",
       "      <td>NaN</td>\n",
       "    </tr>\n",
       "    <tr>\n",
       "      <th>15</th>\n",
       "      <td>NaN</td>\n",
       "      <td>5</td>\n",
       "      <td>SX (4x4)</td>\n",
       "      <td>NaN</td>\n",
       "      <td>NaN</td>\n",
       "      <td>CREW C/CHAS</td>\n",
       "      <td>NaN</td>\n",
       "      <td>NaN</td>\n",
       "      <td>NaN</td>\n",
       "      <td>NaN</td>\n",
       "      <td>...</td>\n",
       "      <td>NaN</td>\n",
       "      <td>MPATFS85JHT010315</td>\n",
       "      <td>NaN</td>\n",
       "      <td>NaN</td>\n",
       "      <td>NaN</td>\n",
       "      <td>NaN</td>\n",
       "      <td>NaN</td>\n",
       "      <td>NaN</td>\n",
       "      <td>2017</td>\n",
       "      <td>NaN</td>\n",
       "    </tr>\n",
       "  </tbody>\n",
       "</table>\n",
       "<p>16 rows × 123 columns</p>\n",
       "</div>"
      ],
      "text/plain": [
       "    ACCELERATION 0-100KM/H ANCAP RATING                          BADGE  \\\n",
       "0                      NaN       5 star                            NaN   \n",
       "1                      NaN          NaN                            3.2   \n",
       "2                      NaN          NaN                            NaN   \n",
       "3                      NaN          NaN                              2   \n",
       "4                      NaN          NaN                            NaN   \n",
       "5                      NaN          NaN  SPORTBACK 1.4 TFSI ATTRACTION   \n",
       "6                      NaN          NaN                           16ti   \n",
       "7                      NaN     Total: 5                Sport Hatchback   \n",
       "8                      NaN          NaN                            NaN   \n",
       "9                      NaN            5                            NaN   \n",
       "10                     NaN          NaN                             ST   \n",
       "11                     NaN          NaN                            zen   \n",
       "12                     NaN          NaN            LP750-4 SUPERVELOCE   \n",
       "13                     6.3            5                        Premium   \n",
       "14                     NaN            5                            NaN   \n",
       "15                     NaN            5                       SX (4x4)   \n",
       "\n",
       "   BATTERY BODY COND      BODY TYPE  BOOT / LOAD SPACE MIN (L) BRAKE COND  \\\n",
       "0      NaN       NaN          Sedan                        NaN        NaN   \n",
       "1      NaN       NaN      2D COUPE                         NaN        NaN   \n",
       "2      NaN       NaN          Sedan                        NaN        NaN   \n",
       "3      NaN       NaN       4D SEDAN                        NaN        NaN   \n",
       "4      NaN       NaN      HATCHBACK                        NaN        NaN   \n",
       "5      Yes       NaN  5D HATCHBACK                         NaN        NaN   \n",
       "6      NaN       NaN   3D HATCHBACK                        NaN        NaN   \n",
       "7      NaN       NaN            NaN                        NaN        NaN   \n",
       "8      NaN       NaN          Wagon                        NaN        NaN   \n",
       "9      NaN       NaN          Hatch                        NaN        NaN   \n",
       "10     NaN       NaN          Hatch                        NaN        NaN   \n",
       "11     NaN       NaN            SUV                        NaN        NaN   \n",
       "12     NaN      GOOD    2D ROADSTER                        NaN       GOOD   \n",
       "13     NaN       NaN          Sedan                      460.0        NaN   \n",
       "14     NaN       NaN          Wagon                        NaN        NaN   \n",
       "15     NaN       NaN    CREW C/CHAS                        NaN        NaN   \n",
       "\n",
       "   BRAKES       CAMSHAFT  ... VEHICLE TYPE                VIN  \\\n",
       "0     NaN            NaN  ...          NaN  WAUZZZ8V9F1143739   \n",
       "1     NaN            NaN  ...          NaN  ZAR93700003448322   \n",
       "2     NaN            NaN  ...          NaN  WBA8E36030NT88810   \n",
       "3     NaN            NaN  ...          NaN  WAUZZZ8E78A130314   \n",
       "4     NaN            NaN  ...          NaN                NaN   \n",
       "5    Good            NaN  ...          NaN  WAUZZZ8P99A060883   \n",
       "6     NaN            NaN  ...          NaN  WBAAT52060AH67531   \n",
       "7     NaN            NaN  ...          NaN  KMHCT51EMHU351471   \n",
       "8     NaN            NaN  ...          NaN  1C4RJFEM7KC699504   \n",
       "9     NaN            NaN  ...          NaN  WDD2462422J162255   \n",
       "10    NaN            NaN  ...          NaN  SJNFEAF15A7216983   \n",
       "11    NaN            NaN  ...    Passenger  VF12R251AK0791643   \n",
       "12    NaN            NaN  ...          NaN  ZHWET3ZD9HLA06405   \n",
       "13    NaN  DOHC with VVT  ...          NaN  JF1VAGK85KG025319   \n",
       "14    NaN  DOHC with VVT  ...          NaN  JTNKY3BX39#######   \n",
       "15    NaN            NaN  ...          NaN  MPATFS85JHT010315   \n",
       "\n",
       "    WARRANTY CUSTOMER ASSISTANCE WARRANTY IN KM  \\\n",
       "0                            NaN            NaN   \n",
       "1                            NaN            NaN   \n",
       "2                            NaN            NaN   \n",
       "3                            NaN            NaN   \n",
       "4                            NaN            NaN   \n",
       "5                            NaN            NaN   \n",
       "6                            NaN            NaN   \n",
       "7                            NaN            NaN   \n",
       "8                            NaN            NaN   \n",
       "9                            NaN            NaN   \n",
       "10                           NaN            NaN   \n",
       "11                           NaN   Unlimited km   \n",
       "12                           NaN            NaN   \n",
       "13               1 year roadside      Unlimited   \n",
       "14                           NaN         100000   \n",
       "15                           NaN            NaN   \n",
       "\n",
       "    WARRANTY IN YEARS FROM FIRST REGISTRATION  WHEEL BASE   WIDTH WINDSCREEN  \\\n",
       "0                                         NaN         NaN     NaN        NaN   \n",
       "1                                         NaN         NaN     NaN        NaN   \n",
       "2                                         NaN         NaN     NaN        NaN   \n",
       "3                                         NaN         NaN     NaN        NaN   \n",
       "4                                         NaN         NaN     NaN        NaN   \n",
       "5                                         NaN         NaN     NaN    Chipped   \n",
       "6                                         NaN         NaN     NaN        NaN   \n",
       "7                                         NaN         NaN     NaN        NaN   \n",
       "8                                         NaN         NaN     NaN        NaN   \n",
       "9                                         NaN         NaN     NaN        NaN   \n",
       "10                                        NaN         NaN     NaN        NaN   \n",
       "11                                       5 yr         NaN     NaN        NaN   \n",
       "12                                        NaN         NaN     NaN        NaN   \n",
       "13                                          5      2650.0  1795.0        NaN   \n",
       "14                                          3      2640.0  1795.0        NaN   \n",
       "15                                        NaN         NaN     NaN        NaN   \n",
       "\n",
       "    YEAR images  \n",
       "0   2015    NaN  \n",
       "1   2008    NaN  \n",
       "2   2015    NaN  \n",
       "3   2008    NaN  \n",
       "4   2005    NaN  \n",
       "5   2008    NaN  \n",
       "6   2002    NaN  \n",
       "7   2017    NaN  \n",
       "8   2019    NaN  \n",
       "9   2013    NaN  \n",
       "10  2016    NaN  \n",
       "11  2019    NaN  \n",
       "12  2017    NaN  \n",
       "13  2019    NaN  \n",
       "14  2018    NaN  \n",
       "15  2017    NaN  \n",
       "\n",
       "[16 rows x 123 columns]"
      ]
     },
     "execution_count": 104,
     "metadata": {},
     "output_type": "execute_result"
    }
   ],
   "source": [
    "first_example_df"
   ]
  },
  {
   "cell_type": "code",
   "execution_count": 105,
   "metadata": {},
   "outputs": [],
   "source": [
    "#first_example_df.to_csv(\"first_example.csv\", index=False)"
   ]
  },
  {
   "cell_type": "code",
   "execution_count": 105,
   "metadata": {},
   "outputs": [],
   "source": [
    "first_example_df.to_json(\"first_example.json\", orient=\"records\", lines=True)"
   ]
  },
  {
   "cell_type": "code",
   "execution_count": null,
   "metadata": {},
   "outputs": [],
   "source": []
  }
 ],
 "metadata": {
  "kernelspec": {
   "display_name": "Python 3",
   "language": "python",
   "name": "python3"
  },
  "language_info": {
   "codemirror_mode": {
    "name": "ipython",
    "version": 3
   },
   "file_extension": ".py",
   "mimetype": "text/x-python",
   "name": "python",
   "nbconvert_exporter": "python",
   "pygments_lexer": "ipython3",
   "version": "3.7.3"
  }
 },
 "nbformat": 4,
 "nbformat_minor": 2
}
