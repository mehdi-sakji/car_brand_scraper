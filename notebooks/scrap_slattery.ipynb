{
 "cells": [
  {
   "cell_type": "code",
   "execution_count": 14,
   "metadata": {},
   "outputs": [],
   "source": [
    "from selenium import webdriver\n",
    "import time\n",
    "import pandas\n",
    "import csv\n",
    "from datetime import datetime\n",
    "from selenium.webdriver.firefox.options import Options"
   ]
  },
  {
   "cell_type": "code",
   "execution_count": 2,
   "metadata": {},
   "outputs": [],
   "source": [
    "details_mapping = {\n",
    "    \"COLOUR\": \"EXTERIOR COLOUR\",\n",
    "    \"VARIANT\": \"BADGE\",\n",
    "    \"KMS SHOWING\": \"ODOMETER\",\n",
    "    \"MOTOR TYPE\": \"ENGINE\",\n",
    "    \"GEARBOX MAKE/MODEL\": \"TRANSMISSION\",\n",
    "    \"STEERING TYPE\": \"STEERING\",\n",
    "    \"ENGINE\": \"ENGINE NUMBER\",\n",
    "    \"MOTOR TYPE\": \"ENGINE\"}"
   ]
  },
  {
   "cell_type": "code",
   "execution_count": 8,
   "metadata": {},
   "outputs": [],
   "source": [
    "RESEARCH_BASE_URL = \"https://www.slatteryauctions.com.au/search/cars-commercial-vehicles-motorcycles\"\n",
    "EXECUTABLE_PATH = \"/home/saronida/lib/geckodriver\""
   ]
  },
  {
   "cell_type": "code",
   "execution_count": 15,
   "metadata": {},
   "outputs": [],
   "source": [
    "options = Options()\n",
    "options.add_argument('--headless')"
   ]
  },
  {
   "cell_type": "code",
   "execution_count": 16,
   "metadata": {},
   "outputs": [],
   "source": [
    "driver = webdriver.Firefox(executable_path=EXECUTABLE_PATH, options=options)\n",
    "#driver = webdriver.PhantomJS()"
   ]
  },
  {
   "cell_type": "code",
   "execution_count": 17,
   "metadata": {},
   "outputs": [],
   "source": [
    "driver.set_page_load_timeout(30)\n",
    "driver.get(RESEARCH_BASE_URL)"
   ]
  },
  {
   "cell_type": "code",
   "execution_count": 18,
   "metadata": {},
   "outputs": [],
   "source": [
    "time.sleep(10)\n",
    "item_cards = driver.find_elements_by_class_name(\"item-card__inner\")"
   ]
  },
  {
   "cell_type": "code",
   "execution_count": 8,
   "metadata": {},
   "outputs": [
    {
     "data": {
      "text/plain": [
       "104"
      ]
     },
     "execution_count": 8,
     "metadata": {},
     "output_type": "execute_result"
    }
   ],
   "source": [
    "len(item_cards)"
   ]
  },
  {
   "cell_type": "code",
   "execution_count": 9,
   "metadata": {},
   "outputs": [],
   "source": [
    "cars_urls = [item_card.find_element_by_tag_name(\"a\").get_attribute(\"href\") for item_card in item_cards]"
   ]
  },
  {
   "cell_type": "code",
   "execution_count": 10,
   "metadata": {},
   "outputs": [
    {
     "data": {
      "text/plain": [
       "104"
      ]
     },
     "execution_count": 10,
     "metadata": {},
     "output_type": "execute_result"
    }
   ],
   "source": [
    "len(cars_urls)"
   ]
  },
  {
   "cell_type": "code",
   "execution_count": 11,
   "metadata": {},
   "outputs": [],
   "source": [
    "#first_example_url = \"https://www.slatteryauctions.com.au/product/4459/950529/2017-lamborghini-aventador-lp-750-4-car-auction/2017-lamborghini-aventador\""
   ]
  },
  {
   "cell_type": "code",
   "execution_count": 12,
   "metadata": {},
   "outputs": [],
   "source": [
    "#first_example_url"
   ]
  },
  {
   "cell_type": "code",
   "execution_count": 13,
   "metadata": {},
   "outputs": [],
   "source": [
    "def parse_details(description_details, details, asset_conditions, extra, initial_details):\n",
    "    \"\"\" Parses vehicle's details box. \"\"\"\n",
    "\n",
    "    parsed_details = initial_details\n",
    "    \n",
    "    for detail in description_details:\n",
    "        key = detail.split(\":\")[0]\n",
    "        value = detail.split(\":\")[1]\n",
    "        if value != \"\":\n",
    "            parsed_details[key] = value\n",
    "            \n",
    "    for detail in details:\n",
    "        parsed_details[detail.find_element_by_tag_name(\"th\").text] = detail.find_element_by_tag_name(\"td\").text\n",
    "    \n",
    "    for detail in asset_conditions:\n",
    "        parsed_details[detail.find_element_by_tag_name(\"th\").text] = detail.find_element_by_tag_name(\"td\").text\n",
    "    \n",
    "    features_list = []\n",
    "    for feature in extra:\n",
    "        if \"text-success\" in feature.find_element_by_tag_name(\"td\").find_element_by_tag_name(\"i\").get_attribute(\"class\"):\n",
    "            features_list.append(feature.find_element_by_tag_name(\"th\").text)\n",
    "    parsed_details[\"VEHICLE FEATURES\"] = \",\".join(features_list)\n",
    "    \n",
    "    parsed_details_df = pandas.DataFrame.from_dict(parsed_details, orient=\"index\", columns=[\"value\"])\n",
    "    parsed_details_df[\"key\"] = parsed_details_df.index\n",
    "    parsed_details_df.reset_index(inplace=True, drop=True)\n",
    "    return parsed_details_df"
   ]
  },
  {
   "cell_type": "code",
   "execution_count": 14,
   "metadata": {},
   "outputs": [],
   "source": [
    "def alter_details(parsed_details_df):\n",
    "    \"\"\" Alters details to match mapping format. \"\"\"\n",
    "\n",
    "    parsed_details_df = parsed_details_df[~pandas.isnull(parsed_details_df.key)]\n",
    "    parsed_details_df[\"key\"] = parsed_details_df[\"key\"].apply(lambda key: key.replace(\":\", \"\").strip().upper())\n",
    "    parsed_details_df[\"key\"] = parsed_details_df[\"key\"].apply(\n",
    "        lambda key: details_mapping[key] if key in details_mapping.keys() else key)\n",
    "    parsed_details_df.drop_duplicates(subset =\"key\", inplace = True)\n",
    "    return parsed_details_df"
   ]
  },
  {
   "cell_type": "code",
   "execution_count": 16,
   "metadata": {},
   "outputs": [
    {
     "name": "stdout",
     "output_type": "stream",
     "text": [
      "Scrapping %d out of %d ... (0, 104)\n",
      "Scrapping %d out of %d ... (1, 104)\n",
      "Scrapping %d out of %d ... (2, 104)\n",
      "Scrapping %d out of %d ... (3, 104)\n",
      "Scrapping %d out of %d ... (4, 104)\n",
      "Scrapping %d out of %d ... (5, 104)\n",
      "Scrapping %d out of %d ... (6, 104)\n",
      "Scrapping %d out of %d ... (7, 104)\n",
      "Scrapping %d out of %d ... (8, 104)\n",
      "Scrapping %d out of %d ... (9, 104)\n",
      "Scrapping %d out of %d ... (10, 104)\n",
      "Scrapping %d out of %d ... (11, 104)\n",
      "Scrapping %d out of %d ... (12, 104)\n",
      "Scrapping %d out of %d ... (13, 104)\n",
      "Scrapping %d out of %d ... (14, 104)\n",
      "Scrapping %d out of %d ... (15, 104)\n",
      "Scrapping %d out of %d ... (16, 104)\n",
      "Scrapping %d out of %d ... (17, 104)\n",
      "Scrapping %d out of %d ... (18, 104)\n",
      "Scrapping %d out of %d ... (19, 104)\n",
      "Scrapping %d out of %d ... (20, 104)\n",
      "Scrapping %d out of %d ... (21, 104)\n",
      "Scrapping %d out of %d ... (22, 104)\n",
      "Scrapping %d out of %d ... (23, 104)\n",
      "Scrapping %d out of %d ... (24, 104)\n",
      "Scrapping %d out of %d ... (25, 104)\n",
      "Scrapping %d out of %d ... (26, 104)\n",
      "Scrapping %d out of %d ... (27, 104)\n",
      "Scrapping %d out of %d ... (28, 104)\n",
      "Scrapping %d out of %d ... (29, 104)\n",
      "Scrapping %d out of %d ... (30, 104)\n",
      "Scrapping %d out of %d ... (31, 104)\n",
      "Scrapping %d out of %d ... (32, 104)\n",
      "Scrapping %d out of %d ... (33, 104)\n",
      "Scrapping %d out of %d ... (34, 104)\n",
      "Scrapping %d out of %d ... (35, 104)\n",
      "Scrapping %d out of %d ... (36, 104)\n",
      "Scrapping %d out of %d ... (37, 104)\n",
      "Scrapping %d out of %d ... (38, 104)\n",
      "Scrapping %d out of %d ... (39, 104)\n",
      "Scrapping %d out of %d ... (40, 104)\n",
      "Scrapping %d out of %d ... (41, 104)\n",
      "Scrapping %d out of %d ... (42, 104)\n",
      "Scrapping %d out of %d ... (43, 104)\n",
      "Scrapping %d out of %d ... (44, 104)\n",
      "Scrapping %d out of %d ... (45, 104)\n",
      "Scrapping %d out of %d ... (46, 104)\n",
      "Scrapping %d out of %d ... (47, 104)\n",
      "Scrapping %d out of %d ... (48, 104)\n",
      "Scrapping %d out of %d ... (49, 104)\n",
      "Scrapping %d out of %d ... (50, 104)\n",
      "Scrapping %d out of %d ... (51, 104)\n",
      "Scrapping %d out of %d ... (52, 104)\n",
      "Scrapping %d out of %d ... (53, 104)\n",
      "Scrapping %d out of %d ... (54, 104)\n",
      "Scrapping %d out of %d ... (55, 104)\n",
      "Scrapping %d out of %d ... (56, 104)\n",
      "Scrapping %d out of %d ... (57, 104)\n",
      "Scrapping %d out of %d ... (58, 104)\n",
      "Scrapping %d out of %d ... (59, 104)\n",
      "Scrapping %d out of %d ... (60, 104)\n",
      "Scrapping %d out of %d ... (61, 104)\n",
      "Scrapping %d out of %d ... (62, 104)\n",
      "Scrapping %d out of %d ... (63, 104)\n",
      "Scrapping %d out of %d ... (64, 104)\n",
      "Scrapping %d out of %d ... (65, 104)\n",
      "Scrapping %d out of %d ... (66, 104)\n",
      "Scrapping %d out of %d ... (67, 104)\n",
      "Scrapping %d out of %d ... (68, 104)\n",
      "Scrapping %d out of %d ... (69, 104)\n",
      "Scrapping %d out of %d ... (70, 104)\n",
      "Scrapping %d out of %d ... (71, 104)\n",
      "Scrapping %d out of %d ... (72, 104)\n",
      "Scrapping %d out of %d ... (73, 104)\n",
      "Scrapping %d out of %d ... (74, 104)\n",
      "Scrapping %d out of %d ... (75, 104)\n",
      "Scrapping %d out of %d ... (76, 104)\n",
      "Scrapping %d out of %d ... (77, 104)\n",
      "Scrapping %d out of %d ... (78, 104)\n",
      "Scrapping %d out of %d ... (79, 104)\n",
      "Scrapping %d out of %d ... (80, 104)\n",
      "Scrapping %d out of %d ... (81, 104)\n",
      "Scrapping %d out of %d ... (82, 104)\n",
      "Scrapping %d out of %d ... (83, 104)\n",
      "Scrapping %d out of %d ... (84, 104)\n",
      "Scrapping %d out of %d ... (85, 104)\n",
      "Scrapping %d out of %d ... (86, 104)\n",
      "Scrapping %d out of %d ... (87, 104)\n",
      "Scrapping %d out of %d ... (88, 104)\n",
      "Scrapping %d out of %d ... (89, 104)\n",
      "Scrapping %d out of %d ... (90, 104)\n",
      "Scrapping %d out of %d ... (91, 104)\n",
      "Scrapping %d out of %d ... (92, 104)\n",
      "Scrapping %d out of %d ... (93, 104)\n",
      "Scrapping %d out of %d ... (94, 104)\n",
      "Scrapping %d out of %d ... (95, 104)\n",
      "Scrapping %d out of %d ... (96, 104)\n",
      "Scrapping %d out of %d ... (97, 104)\n",
      "Scrapping %d out of %d ... (98, 104)\n",
      "Scrapping %d out of %d ... (99, 104)\n",
      "Scrapping %d out of %d ... (100, 104)\n",
      "Scrapping %d out of %d ... (101, 104)\n",
      "Scrapping %d out of %d ... (102, 104)\n",
      "Scrapping %d out of %d ... (103, 104)\n"
     ]
    }
   ],
   "source": [
    "all_cars = []\n",
    "for i, example_url in enumerate(cars_urls):\n",
    "    print(\"Scrapping %d out of %d ...\", (i, len(cars_urls)))\n",
    "    driver.get(example_url)\n",
    "    link = example_url\n",
    "    title = driver.find_elements_by_class_name(\"product-details__title\")[1].text\n",
    "    initial_details = {\n",
    "        \"TITLE\": title, \"LINK\": link, \"TIMESTAMP\": int(datetime.timestamp(datetime.now()))}\n",
    "    initial_details[\"DEALER NAME\"] = \"Slattery Auctions\"\n",
    "    location = driver.find_element_by_class_name(\"snapshot__details\").find_elements_by_tag_name(\"li\")[2].text\n",
    "    initial_details[\"LOCATION\"] = location\n",
    "    #price = driver.find_element_by_class_name(\"starting-bid\").find_element_by_class_name(\"ng-binding\").text\n",
    "    product_details_comments_features = driver.find_element_by_id(\"product-details\")\n",
    "    description = product_details_comments_features.find_elements_by_class_name(\"table-product-details\")[0]\n",
    "    description_items = description.text.split(\"\\n\")\n",
    "    description_details = [item for item in description_items if \":\" in item and len(item.split(\":\"))==2]\n",
    "    details_block = product_details_comments_features.find_elements_by_class_name(\"table-product-details\")[1]\n",
    "    details = details_block.find_elements_by_tag_name(\"tr\")\n",
    "    asset_conditions_block = product_details_comments_features.find_elements_by_class_name(\"table-product-details\")[2]\n",
    "    asset_conditions = asset_conditions_block.find_elements_by_tag_name(\"tr\")\n",
    "    extra_block = product_details_comments_features.find_elements_by_class_name(\"table-product-details\")[3]\n",
    "    extra = extra_block.find_elements_by_tag_name(\"tr\")\n",
    "    parsed_details_df = parse_details(description_details, details, asset_conditions, extra, initial_details)\n",
    "    parsed_details_df = alter_details(parsed_details_df)\n",
    "    tmp_dict = parsed_details_df.to_dict(orient=\"list\")\n",
    "    parsed_details = dict(zip(tmp_dict[\"key\"], tmp_dict[\"value\"]))\n",
    "    all_cars.append(parsed_details)"
   ]
  },
  {
   "cell_type": "code",
   "execution_count": 17,
   "metadata": {},
   "outputs": [
    {
     "data": {
      "text/plain": [
       "104"
      ]
     },
     "execution_count": 17,
     "metadata": {},
     "output_type": "execute_result"
    }
   ],
   "source": [
    "len(all_cars)"
   ]
  },
  {
   "cell_type": "code",
   "execution_count": 19,
   "metadata": {},
   "outputs": [],
   "source": [
    "import json\n",
    "with open('../results/slattery.json', 'w') as f:\n",
    "    for dic in all_cars:\n",
    "        json.dump(dic, f) \n",
    "        f.write(\"\\n\")"
   ]
  },
  {
   "cell_type": "code",
   "execution_count": null,
   "metadata": {},
   "outputs": [],
   "source": []
  }
 ],
 "metadata": {
  "kernelspec": {
   "display_name": "Python 3",
   "language": "python",
   "name": "python3"
  },
  "language_info": {
   "codemirror_mode": {
    "name": "ipython",
    "version": 3
   },
   "file_extension": ".py",
   "mimetype": "text/x-python",
   "name": "python",
   "nbconvert_exporter": "python",
   "pygments_lexer": "ipython3",
   "version": "3.7.3"
  }
 },
 "nbformat": 4,
 "nbformat_minor": 2
}
