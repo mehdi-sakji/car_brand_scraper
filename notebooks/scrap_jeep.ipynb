{
 "cells": [
  {
   "cell_type": "code",
   "execution_count": 55,
   "metadata": {},
   "outputs": [],
   "source": [
    "from selenium import webdriver\n",
    "import time\n",
    "import pandas\n",
    "import csv\n",
    "from datetime import datetime"
   ]
  },
  {
   "cell_type": "code",
   "execution_count": 56,
   "metadata": {},
   "outputs": [],
   "source": [
    "details_mapping = {\n",
    "    \"KILOMETRES\": \"ODOMETER\",\n",
    "    \"VEHICLE\": \"TITLE\",\n",
    "    \"COLOUR\": \"EXTERIOR COLOUR\",\n",
    "    \"STOCK NUMBER\": \"STOCK NO\",\n",
    "    \"REGISTRATION EXPIRY\": \"REGO EXPIRY\",\n",
    "    \"ENGINE DESCRIPTION\": \"ENGINE\",\n",
    "    \"ENGINE SIZE\": \"ENGINE SIZE (CC)\",\n",
    "    \"FUEL COMBINED\": \"FUEL ECONOMY (COMBINED)\",\n",
    "    \"INDUCTION DESCRIPTION\": \"INDUCTION TYPE\"}"
   ]
  },
  {
   "cell_type": "code",
   "execution_count": 57,
   "metadata": {},
   "outputs": [],
   "source": [
    "standard_models = [\"ALL-NEW WRANGLER\", \"GRAND CHEROKEE\", \"NEXT-GENERATION CHEROKEE\", \"COMPASS\", \"GLADIATOR\"]"
   ]
  },
  {
   "cell_type": "code",
   "execution_count": 58,
   "metadata": {},
   "outputs": [],
   "source": [
    "#RESEARCH_BASE_URL = \"https://www.jeep.com.au/stock-locator.html\"\n",
    "EXECUTABLE_PATH = \"/home/saronida/lib/geckodriver\""
   ]
  },
  {
   "cell_type": "code",
   "execution_count": 59,
   "metadata": {},
   "outputs": [],
   "source": [
    "driver = webdriver.Firefox(executable_path=EXECUTABLE_PATH)"
   ]
  },
  {
   "cell_type": "code",
   "execution_count": 60,
   "metadata": {},
   "outputs": [],
   "source": [
    "#driver.get(RESEARCH_BASE_URL)"
   ]
  },
  {
   "cell_type": "code",
   "execution_count": 61,
   "metadata": {},
   "outputs": [],
   "source": [
    "#time.sleep(10)"
   ]
  },
  {
   "cell_type": "code",
   "execution_count": 62,
   "metadata": {},
   "outputs": [],
   "source": [
    "#inventories = driver.find_element_by_id(\"content\")"
   ]
  },
  {
   "cell_type": "code",
   "execution_count": 63,
   "metadata": {},
   "outputs": [],
   "source": [
    "#.find_elements_by_class_name(\"inventory-listing__item\")"
   ]
  },
  {
   "cell_type": "code",
   "execution_count": 64,
   "metadata": {},
   "outputs": [],
   "source": [
    "#len(inventories)"
   ]
  },
  {
   "cell_type": "code",
   "execution_count": 65,
   "metadata": {},
   "outputs": [],
   "source": [
    "#cars_urls = [item_card.find_element_by_tag_name(\"a\").get_attribute(\"href\") for item_card in item_cards]"
   ]
  },
  {
   "cell_type": "code",
   "execution_count": 66,
   "metadata": {},
   "outputs": [],
   "source": [
    "first_example_url = \"https://www.andrewmiedeckejeep.com.au/demo-car/jeep/grand-cherokee/32425/\""
   ]
  },
  {
   "cell_type": "code",
   "execution_count": 67,
   "metadata": {},
   "outputs": [
    {
     "data": {
      "text/plain": [
       "'https://www.andrewmiedeckejeep.com.au/demo-car/jeep/grand-cherokee/32425/'"
      ]
     },
     "execution_count": 67,
     "metadata": {},
     "output_type": "execute_result"
    }
   ],
   "source": [
    "first_example_url"
   ]
  },
  {
   "cell_type": "code",
   "execution_count": 68,
   "metadata": {},
   "outputs": [],
   "source": [
    "driver.get(first_example_url)"
   ]
  },
  {
   "cell_type": "code",
   "execution_count": 69,
   "metadata": {},
   "outputs": [],
   "source": [
    "link = first_example_url"
   ]
  },
  {
   "cell_type": "code",
   "execution_count": 70,
   "metadata": {},
   "outputs": [],
   "source": [
    "#title = driver.find_element_by_class_name(\"page-title\").text"
   ]
  },
  {
   "cell_type": "code",
   "execution_count": 71,
   "metadata": {},
   "outputs": [],
   "source": [
    "#title"
   ]
  },
  {
   "cell_type": "code",
   "execution_count": 72,
   "metadata": {},
   "outputs": [],
   "source": [
    "price = driver.find_element_by_class_name(\"product-price__number\").find_element_by_tag_name(\"span\").text"
   ]
  },
  {
   "cell_type": "code",
   "execution_count": 73,
   "metadata": {},
   "outputs": [
    {
     "data": {
      "text/plain": [
       "'$61,777'"
      ]
     },
     "execution_count": 73,
     "metadata": {},
     "output_type": "execute_result"
    }
   ],
   "source": [
    "price"
   ]
  },
  {
   "cell_type": "code",
   "execution_count": 74,
   "metadata": {},
   "outputs": [],
   "source": [
    "left_size_info = driver.find_element_by_class_name(\"invDtLhs\")"
   ]
  },
  {
   "cell_type": "code",
   "execution_count": 75,
   "metadata": {},
   "outputs": [],
   "source": [
    "right_size_info = driver.find_element_by_class_name(\"invDtRhs\")"
   ]
  },
  {
   "cell_type": "code",
   "execution_count": 76,
   "metadata": {},
   "outputs": [],
   "source": [
    "dealer_info = right_size_info.find_element_by_class_name(\"invContactBox\")"
   ]
  },
  {
   "cell_type": "code",
   "execution_count": 77,
   "metadata": {},
   "outputs": [],
   "source": [
    "dealer_name = dealer_info.find_element_by_tag_name(\"h5\").text"
   ]
  },
  {
   "cell_type": "code",
   "execution_count": 78,
   "metadata": {},
   "outputs": [
    {
     "data": {
      "text/plain": [
       "'ANDREW MIEDECKE JEEP'"
      ]
     },
     "execution_count": 78,
     "metadata": {},
     "output_type": "execute_result"
    }
   ],
   "source": [
    "dealer_name"
   ]
  },
  {
   "cell_type": "code",
   "execution_count": 79,
   "metadata": {},
   "outputs": [],
   "source": [
    "dealer_location = dealer_info.find_elements_by_tag_name(\"p\")[1].text.replace(\"\\n\", \" \")"
   ]
  },
  {
   "cell_type": "code",
   "execution_count": 80,
   "metadata": {},
   "outputs": [
    {
     "data": {
      "text/plain": [
       "'100 Hastings River Drive Port Macquarie, NSW 2444'"
      ]
     },
     "execution_count": 80,
     "metadata": {},
     "output_type": "execute_result"
    }
   ],
   "source": [
    "dealer_location"
   ]
  },
  {
   "cell_type": "code",
   "execution_count": 81,
   "metadata": {},
   "outputs": [],
   "source": [
    "comments = left_size_info.find_element_by_class_name(\"read-more\").find_element_by_tag_name(\"p\").text.replace(\"\\n\", \" \")"
   ]
  },
  {
   "cell_type": "code",
   "execution_count": 82,
   "metadata": {},
   "outputs": [
    {
     "data": {
      "text/plain": [
       "\"2019 Jeep Grand Cherokee Night Eagle Diesel Demonstrator  Featured in Granite Crystal with Capri Black Leather Seats with Suede inserts  This vehicle has the following factory options:  With only 300 diesels coming to Australia and only 18% featured in this colour.  - Night Eagle exclusive 20 inch split 5-spoke black alloy wheels - Black 7-slot Jeep Grille; black surrounds with silver mesh inserts - Body colour lower front fascia with black inserts - Body colour lower rear fascia, wheel arch flares and side sill clading - Deep tint sunscreen glass - Dual bright exhaust tips - Black side window surrounds - Black rear tail lamp bezels - Black front fog lamp bezels - Black rear step pad - Black Grand Cherokee front door and 4x4 rear liftgate badging - Black Jeep badging; front bonnet and rear liftgate badging - Black roof mouldings replace roof rails - Night Eagle badge - Satellite navigation - Sunroof  We are a family owned, multi franchise business and have been operating for 30 years in the local community with excellent repeat business. Situated 4 hours north of Sydney and 6 hours south of Brisbane, we're well placed to service your needs regardless of can be arranged over the phone with one easy call and we offer very competitive rates with same day approval - we also deliver Australia Wide. Trade ins are welcome. Call one of our friendly sales consultants today and let them guide you through the buying process.\""
      ]
     },
     "execution_count": 82,
     "metadata": {},
     "output_type": "execute_result"
    }
   ],
   "source": [
    "comments"
   ]
  },
  {
   "cell_type": "code",
   "execution_count": 83,
   "metadata": {},
   "outputs": [],
   "source": [
    "initial_details = {\n",
    "    \"LINK\": link, \"PRICE\": price, \"DEALER NAME\": dealer_name, \"MAKE\": \"JEEP\",\n",
    "    \"LOCATION\": dealer_location, \"COMMENTS\": comments, \"TIMESTAMP\": int(datetime.timestamp(datetime.now()))}"
   ]
  },
  {
   "cell_type": "code",
   "execution_count": 84,
   "metadata": {},
   "outputs": [
    {
     "data": {
      "text/plain": [
       "{'LINK': 'https://www.andrewmiedeckejeep.com.au/demo-car/jeep/grand-cherokee/32425/',\n",
       " 'PRICE': '$61,777',\n",
       " 'DEALER NAME': 'ANDREW MIEDECKE JEEP',\n",
       " 'MAKE': 'JEEP',\n",
       " 'LOCATION': '100 Hastings River Drive Port Macquarie, NSW 2444',\n",
       " 'COMMENTS': \"2019 Jeep Grand Cherokee Night Eagle Diesel Demonstrator  Featured in Granite Crystal with Capri Black Leather Seats with Suede inserts  This vehicle has the following factory options:  With only 300 diesels coming to Australia and only 18% featured in this colour.  - Night Eagle exclusive 20 inch split 5-spoke black alloy wheels - Black 7-slot Jeep Grille; black surrounds with silver mesh inserts - Body colour lower front fascia with black inserts - Body colour lower rear fascia, wheel arch flares and side sill clading - Deep tint sunscreen glass - Dual bright exhaust tips - Black side window surrounds - Black rear tail lamp bezels - Black front fog lamp bezels - Black rear step pad - Black Grand Cherokee front door and 4x4 rear liftgate badging - Black Jeep badging; front bonnet and rear liftgate badging - Black roof mouldings replace roof rails - Night Eagle badge - Satellite navigation - Sunroof  We are a family owned, multi franchise business and have been operating for 30 years in the local community with excellent repeat business. Situated 4 hours north of Sydney and 6 hours south of Brisbane, we're well placed to service your needs regardless of can be arranged over the phone with one easy call and we offer very competitive rates with same day approval - we also deliver Australia Wide. Trade ins are welcome. Call one of our friendly sales consultants today and let them guide you through the buying process.\",\n",
       " 'TIMESTAMP': 1576621930}"
      ]
     },
     "execution_count": 84,
     "metadata": {},
     "output_type": "execute_result"
    }
   ],
   "source": [
    "initial_details"
   ]
  },
  {
   "cell_type": "code",
   "execution_count": 85,
   "metadata": {},
   "outputs": [],
   "source": [
    "specifications_block = right_size_info.find_element_by_class_name(\"specifications-table\")"
   ]
  },
  {
   "cell_type": "code",
   "execution_count": 86,
   "metadata": {},
   "outputs": [],
   "source": [
    "specifications_fields = specifications_block.find_elements_by_tag_name(\"dt\")"
   ]
  },
  {
   "cell_type": "code",
   "execution_count": 87,
   "metadata": {},
   "outputs": [],
   "source": [
    "specifications_values = specifications_block.find_elements_by_tag_name(\"dd\")"
   ]
  },
  {
   "cell_type": "code",
   "execution_count": 88,
   "metadata": {},
   "outputs": [
    {
     "data": {
      "text/plain": [
       "True"
      ]
     },
     "execution_count": 88,
     "metadata": {},
     "output_type": "execute_result"
    }
   ],
   "source": [
    "len(specifications_fields)==len(specifications_values)"
   ]
  },
  {
   "cell_type": "code",
   "execution_count": 89,
   "metadata": {},
   "outputs": [],
   "source": [
    "parsed_details = initial_details"
   ]
  },
  {
   "cell_type": "code",
   "execution_count": 90,
   "metadata": {},
   "outputs": [],
   "source": [
    "for i in range(len(specifications_fields)):\n",
    "    parsed_details[specifications_fields[i].text] = specifications_values[i].text"
   ]
  },
  {
   "cell_type": "code",
   "execution_count": 91,
   "metadata": {},
   "outputs": [
    {
     "data": {
      "text/plain": [
       "{'LINK': 'https://www.andrewmiedeckejeep.com.au/demo-car/jeep/grand-cherokee/32425/',\n",
       " 'PRICE': '$61,777',\n",
       " 'DEALER NAME': 'ANDREW MIEDECKE JEEP',\n",
       " 'MAKE': 'JEEP',\n",
       " 'LOCATION': '100 Hastings River Drive Port Macquarie, NSW 2444',\n",
       " 'COMMENTS': \"2019 Jeep Grand Cherokee Night Eagle Diesel Demonstrator  Featured in Granite Crystal with Capri Black Leather Seats with Suede inserts  This vehicle has the following factory options:  With only 300 diesels coming to Australia and only 18% featured in this colour.  - Night Eagle exclusive 20 inch split 5-spoke black alloy wheels - Black 7-slot Jeep Grille; black surrounds with silver mesh inserts - Body colour lower front fascia with black inserts - Body colour lower rear fascia, wheel arch flares and side sill clading - Deep tint sunscreen glass - Dual bright exhaust tips - Black side window surrounds - Black rear tail lamp bezels - Black front fog lamp bezels - Black rear step pad - Black Grand Cherokee front door and 4x4 rear liftgate badging - Black Jeep badging; front bonnet and rear liftgate badging - Black roof mouldings replace roof rails - Night Eagle badge - Satellite navigation - Sunroof  We are a family owned, multi franchise business and have been operating for 30 years in the local community with excellent repeat business. Situated 4 hours north of Sydney and 6 hours south of Brisbane, we're well placed to service your needs regardless of can be arranged over the phone with one easy call and we offer very competitive rates with same day approval - we also deliver Australia Wide. Trade ins are welcome. Call one of our friendly sales consultants today and let them guide you through the buying process.\",\n",
       " 'TIMESTAMP': 1576621930,\n",
       " 'Type': 'Demo Vehicle',\n",
       " 'Engine/Fuel': '2987 cc / Diesel',\n",
       " 'Transmission': 'Automatic',\n",
       " 'Body Type': 'Wagon',\n",
       " 'Kilometres': '2,741',\n",
       " 'Location': 'Port Macquarie'}"
      ]
     },
     "execution_count": 91,
     "metadata": {},
     "output_type": "execute_result"
    }
   ],
   "source": [
    "parsed_details"
   ]
  },
  {
   "cell_type": "code",
   "execution_count": 92,
   "metadata": {},
   "outputs": [],
   "source": [
    "expand_buttons = left_size_info.find_elements_by_class_name(\"accordion__trigger\")"
   ]
  },
  {
   "cell_type": "code",
   "execution_count": 93,
   "metadata": {},
   "outputs": [],
   "source": [
    "for button in expand_buttons:\n",
    "    button.click()"
   ]
  },
  {
   "cell_type": "code",
   "execution_count": 94,
   "metadata": {},
   "outputs": [],
   "source": [
    "details_blocks = left_size_info.find_elements_by_class_name(\"specifications-table\")"
   ]
  },
  {
   "cell_type": "code",
   "execution_count": 95,
   "metadata": {},
   "outputs": [
    {
     "data": {
      "text/plain": [
       "4"
      ]
     },
     "execution_count": 95,
     "metadata": {},
     "output_type": "execute_result"
    }
   ],
   "source": [
    "len(details_blocks)"
   ]
  },
  {
   "cell_type": "code",
   "execution_count": null,
   "metadata": {},
   "outputs": [],
   "source": []
  },
  {
   "cell_type": "code",
   "execution_count": 96,
   "metadata": {},
   "outputs": [
    {
     "name": "stdout",
     "output_type": "stream",
     "text": [
      "11\n",
      "4\n",
      "1\n",
      "4\n"
     ]
    }
   ],
   "source": [
    "for detail_block in details_blocks:\n",
    "    details_fields = detail_block.find_elements_by_tag_name(\"dt\")\n",
    "    details_values = detail_block.find_elements_by_tag_name(\"dd\")\n",
    "    print(len(details_values))\n",
    "    for i in range(len(details_fields)):\n",
    "        parsed_details[details_fields[i].text] = details_values[i].text"
   ]
  },
  {
   "cell_type": "code",
   "execution_count": 97,
   "metadata": {},
   "outputs": [
    {
     "data": {
      "text/plain": [
       "{'LINK': 'https://www.andrewmiedeckejeep.com.au/demo-car/jeep/grand-cherokee/32425/',\n",
       " 'PRICE': '$61,777',\n",
       " 'DEALER NAME': 'ANDREW MIEDECKE JEEP',\n",
       " 'MAKE': 'JEEP',\n",
       " 'LOCATION': '100 Hastings River Drive Port Macquarie, NSW 2444',\n",
       " 'COMMENTS': \"2019 Jeep Grand Cherokee Night Eagle Diesel Demonstrator  Featured in Granite Crystal with Capri Black Leather Seats with Suede inserts  This vehicle has the following factory options:  With only 300 diesels coming to Australia and only 18% featured in this colour.  - Night Eagle exclusive 20 inch split 5-spoke black alloy wheels - Black 7-slot Jeep Grille; black surrounds with silver mesh inserts - Body colour lower front fascia with black inserts - Body colour lower rear fascia, wheel arch flares and side sill clading - Deep tint sunscreen glass - Dual bright exhaust tips - Black side window surrounds - Black rear tail lamp bezels - Black front fog lamp bezels - Black rear step pad - Black Grand Cherokee front door and 4x4 rear liftgate badging - Black Jeep badging; front bonnet and rear liftgate badging - Black roof mouldings replace roof rails - Night Eagle badge - Satellite navigation - Sunroof  We are a family owned, multi franchise business and have been operating for 30 years in the local community with excellent repeat business. Situated 4 hours north of Sydney and 6 hours south of Brisbane, we're well placed to service your needs regardless of can be arranged over the phone with one easy call and we offer very competitive rates with same day approval - we also deliver Australia Wide. Trade ins are welcome. Call one of our friendly sales consultants today and let them guide you through the buying process.\",\n",
       " 'TIMESTAMP': 1576621930,\n",
       " 'Type': 'Demo Vehicle',\n",
       " 'Engine/Fuel': '2987 cc / Diesel',\n",
       " 'Transmission': 'Automatic',\n",
       " 'Body Type': 'Wagon',\n",
       " 'Kilometres': '2,741 km',\n",
       " 'Location': 'Port Macquarie',\n",
       " 'Vehicle': '2019 Jeep Grand Cherokee Wagon (Granite Crystal)',\n",
       " 'Series': 'WK',\n",
       " 'Price': '$61,777*2    Drive Away',\n",
       " 'Colour': 'Granite Crystal (Grey)',\n",
       " 'VIN': '1C4RJFEM7KC699504',\n",
       " 'Stock Number': '32425',\n",
       " 'Registration Expiry': 'June 2020',\n",
       " 'Cylinders': '6',\n",
       " 'Engine Description': '3.0',\n",
       " 'Engine Size': '2987 cc',\n",
       " 'Power': '184',\n",
       " 'Drive Type': '4X4 Dual Range',\n",
       " 'Fuel Combined': '7.5',\n",
       " 'Fuel Type': 'Diesel',\n",
       " 'Fuel Type Description': 'Diesel',\n",
       " 'Induction Description': 'Turbo Intercooled'}"
      ]
     },
     "execution_count": 97,
     "metadata": {},
     "output_type": "execute_result"
    }
   ],
   "source": [
    "parsed_details"
   ]
  },
  {
   "cell_type": "code",
   "execution_count": 98,
   "metadata": {},
   "outputs": [],
   "source": [
    "parsed_details_df = pandas.DataFrame.from_dict(parsed_details, orient=\"index\", columns=[\"value\"])\n",
    "parsed_details_df[\"key\"] = parsed_details_df.index\n",
    "parsed_details_df.reset_index(inplace=True, drop=True)"
   ]
  },
  {
   "cell_type": "code",
   "execution_count": 99,
   "metadata": {},
   "outputs": [
    {
     "data": {
      "text/html": [
       "<div>\n",
       "<style scoped>\n",
       "    .dataframe tbody tr th:only-of-type {\n",
       "        vertical-align: middle;\n",
       "    }\n",
       "\n",
       "    .dataframe tbody tr th {\n",
       "        vertical-align: top;\n",
       "    }\n",
       "\n",
       "    .dataframe thead th {\n",
       "        text-align: right;\n",
       "    }\n",
       "</style>\n",
       "<table border=\"1\" class=\"dataframe\">\n",
       "  <thead>\n",
       "    <tr style=\"text-align: right;\">\n",
       "      <th></th>\n",
       "      <th>value</th>\n",
       "      <th>key</th>\n",
       "    </tr>\n",
       "  </thead>\n",
       "  <tbody>\n",
       "    <tr>\n",
       "      <th>0</th>\n",
       "      <td>https://www.andrewmiedeckejeep.com.au/demo-car...</td>\n",
       "      <td>LINK</td>\n",
       "    </tr>\n",
       "    <tr>\n",
       "      <th>1</th>\n",
       "      <td>$61,777</td>\n",
       "      <td>PRICE</td>\n",
       "    </tr>\n",
       "    <tr>\n",
       "      <th>2</th>\n",
       "      <td>ANDREW MIEDECKE JEEP</td>\n",
       "      <td>DEALER NAME</td>\n",
       "    </tr>\n",
       "    <tr>\n",
       "      <th>3</th>\n",
       "      <td>JEEP</td>\n",
       "      <td>MAKE</td>\n",
       "    </tr>\n",
       "    <tr>\n",
       "      <th>4</th>\n",
       "      <td>100 Hastings River Drive Port Macquarie, NSW 2444</td>\n",
       "      <td>LOCATION</td>\n",
       "    </tr>\n",
       "    <tr>\n",
       "      <th>5</th>\n",
       "      <td>2019 Jeep Grand Cherokee Night Eagle Diesel De...</td>\n",
       "      <td>COMMENTS</td>\n",
       "    </tr>\n",
       "    <tr>\n",
       "      <th>6</th>\n",
       "      <td>1576621930</td>\n",
       "      <td>TIMESTAMP</td>\n",
       "    </tr>\n",
       "    <tr>\n",
       "      <th>7</th>\n",
       "      <td>Demo Vehicle</td>\n",
       "      <td>Type</td>\n",
       "    </tr>\n",
       "    <tr>\n",
       "      <th>8</th>\n",
       "      <td>2987 cc / Diesel</td>\n",
       "      <td>Engine/Fuel</td>\n",
       "    </tr>\n",
       "    <tr>\n",
       "      <th>9</th>\n",
       "      <td>Automatic</td>\n",
       "      <td>Transmission</td>\n",
       "    </tr>\n",
       "    <tr>\n",
       "      <th>10</th>\n",
       "      <td>Wagon</td>\n",
       "      <td>Body Type</td>\n",
       "    </tr>\n",
       "    <tr>\n",
       "      <th>11</th>\n",
       "      <td>2,741 km</td>\n",
       "      <td>Kilometres</td>\n",
       "    </tr>\n",
       "    <tr>\n",
       "      <th>12</th>\n",
       "      <td>Port Macquarie</td>\n",
       "      <td>Location</td>\n",
       "    </tr>\n",
       "    <tr>\n",
       "      <th>13</th>\n",
       "      <td>2019 Jeep Grand Cherokee Wagon (Granite Crystal)</td>\n",
       "      <td>Vehicle</td>\n",
       "    </tr>\n",
       "    <tr>\n",
       "      <th>14</th>\n",
       "      <td>WK</td>\n",
       "      <td>Series</td>\n",
       "    </tr>\n",
       "    <tr>\n",
       "      <th>15</th>\n",
       "      <td>$61,777*2    Drive Away</td>\n",
       "      <td>Price</td>\n",
       "    </tr>\n",
       "    <tr>\n",
       "      <th>16</th>\n",
       "      <td>Granite Crystal (Grey)</td>\n",
       "      <td>Colour</td>\n",
       "    </tr>\n",
       "    <tr>\n",
       "      <th>17</th>\n",
       "      <td>1C4RJFEM7KC699504</td>\n",
       "      <td>VIN</td>\n",
       "    </tr>\n",
       "    <tr>\n",
       "      <th>18</th>\n",
       "      <td>32425</td>\n",
       "      <td>Stock Number</td>\n",
       "    </tr>\n",
       "    <tr>\n",
       "      <th>19</th>\n",
       "      <td>June 2020</td>\n",
       "      <td>Registration Expiry</td>\n",
       "    </tr>\n",
       "    <tr>\n",
       "      <th>20</th>\n",
       "      <td>6</td>\n",
       "      <td>Cylinders</td>\n",
       "    </tr>\n",
       "    <tr>\n",
       "      <th>21</th>\n",
       "      <td>3.0</td>\n",
       "      <td>Engine Description</td>\n",
       "    </tr>\n",
       "    <tr>\n",
       "      <th>22</th>\n",
       "      <td>2987 cc</td>\n",
       "      <td>Engine Size</td>\n",
       "    </tr>\n",
       "    <tr>\n",
       "      <th>23</th>\n",
       "      <td>184</td>\n",
       "      <td>Power</td>\n",
       "    </tr>\n",
       "    <tr>\n",
       "      <th>24</th>\n",
       "      <td>4X4 Dual Range</td>\n",
       "      <td>Drive Type</td>\n",
       "    </tr>\n",
       "    <tr>\n",
       "      <th>25</th>\n",
       "      <td>7.5</td>\n",
       "      <td>Fuel Combined</td>\n",
       "    </tr>\n",
       "    <tr>\n",
       "      <th>26</th>\n",
       "      <td>Diesel</td>\n",
       "      <td>Fuel Type</td>\n",
       "    </tr>\n",
       "    <tr>\n",
       "      <th>27</th>\n",
       "      <td>Diesel</td>\n",
       "      <td>Fuel Type Description</td>\n",
       "    </tr>\n",
       "    <tr>\n",
       "      <th>28</th>\n",
       "      <td>Turbo Intercooled</td>\n",
       "      <td>Induction Description</td>\n",
       "    </tr>\n",
       "  </tbody>\n",
       "</table>\n",
       "</div>"
      ],
      "text/plain": [
       "                                                value                    key\n",
       "0   https://www.andrewmiedeckejeep.com.au/demo-car...                   LINK\n",
       "1                                             $61,777                  PRICE\n",
       "2                                ANDREW MIEDECKE JEEP            DEALER NAME\n",
       "3                                                JEEP                   MAKE\n",
       "4   100 Hastings River Drive Port Macquarie, NSW 2444               LOCATION\n",
       "5   2019 Jeep Grand Cherokee Night Eagle Diesel De...               COMMENTS\n",
       "6                                          1576621930              TIMESTAMP\n",
       "7                                        Demo Vehicle                   Type\n",
       "8                                    2987 cc / Diesel            Engine/Fuel\n",
       "9                                           Automatic           Transmission\n",
       "10                                              Wagon              Body Type\n",
       "11                                           2,741 km             Kilometres\n",
       "12                                     Port Macquarie               Location\n",
       "13   2019 Jeep Grand Cherokee Wagon (Granite Crystal)                Vehicle\n",
       "14                                                 WK                 Series\n",
       "15                            $61,777*2    Drive Away                  Price\n",
       "16                             Granite Crystal (Grey)                 Colour\n",
       "17                                  1C4RJFEM7KC699504                    VIN\n",
       "18                                              32425           Stock Number\n",
       "19                                          June 2020    Registration Expiry\n",
       "20                                                  6              Cylinders\n",
       "21                                                3.0     Engine Description\n",
       "22                                            2987 cc            Engine Size\n",
       "23                                                184                  Power\n",
       "24                                     4X4 Dual Range             Drive Type\n",
       "25                                                7.5          Fuel Combined\n",
       "26                                             Diesel              Fuel Type\n",
       "27                                             Diesel  Fuel Type Description\n",
       "28                                  Turbo Intercooled  Induction Description"
      ]
     },
     "execution_count": 99,
     "metadata": {},
     "output_type": "execute_result"
    }
   ],
   "source": [
    "parsed_details_df"
   ]
  },
  {
   "cell_type": "code",
   "execution_count": null,
   "metadata": {},
   "outputs": [],
   "source": []
  },
  {
   "cell_type": "code",
   "execution_count": 100,
   "metadata": {},
   "outputs": [],
   "source": [
    "def alter_details(parsed_details_df):\n",
    "    \"\"\" Alters details to match mapping format. \"\"\"\n",
    "\n",
    "    parsed_details_df = parsed_details_df[~pandas.isnull(parsed_details_df.key)]\n",
    "    parsed_details_df[\"key\"] = parsed_details_df[\"key\"].apply(lambda key: key.replace(\":\", \"\").strip().upper())\n",
    "    parsed_details_df[\"key\"] = parsed_details_df[\"key\"].apply(\n",
    "        lambda key: details_mapping[key] if key in details_mapping.keys() else key)\n",
    "    parsed_details_df.drop_duplicates(subset =\"key\", inplace = True)\n",
    "    return parsed_details_df"
   ]
  },
  {
   "cell_type": "code",
   "execution_count": 101,
   "metadata": {},
   "outputs": [],
   "source": [
    "parsed_details_df = alter_details(parsed_details_df)"
   ]
  },
  {
   "cell_type": "code",
   "execution_count": 102,
   "metadata": {},
   "outputs": [],
   "source": [
    "tmp_dict = parsed_details_df.to_dict(orient=\"list\")\n",
    "parsed_details = dict(zip(tmp_dict[\"key\"], tmp_dict[\"value\"]))"
   ]
  },
  {
   "cell_type": "code",
   "execution_count": 103,
   "metadata": {},
   "outputs": [
    {
     "data": {
      "text/plain": [
       "{'LINK': 'https://www.andrewmiedeckejeep.com.au/demo-car/jeep/grand-cherokee/32425/',\n",
       " 'PRICE': '$61,777',\n",
       " 'DEALER NAME': 'ANDREW MIEDECKE JEEP',\n",
       " 'MAKE': 'JEEP',\n",
       " 'LOCATION': '100 Hastings River Drive Port Macquarie, NSW 2444',\n",
       " 'COMMENTS': \"2019 Jeep Grand Cherokee Night Eagle Diesel Demonstrator  Featured in Granite Crystal with Capri Black Leather Seats with Suede inserts  This vehicle has the following factory options:  With only 300 diesels coming to Australia and only 18% featured in this colour.  - Night Eagle exclusive 20 inch split 5-spoke black alloy wheels - Black 7-slot Jeep Grille; black surrounds with silver mesh inserts - Body colour lower front fascia with black inserts - Body colour lower rear fascia, wheel arch flares and side sill clading - Deep tint sunscreen glass - Dual bright exhaust tips - Black side window surrounds - Black rear tail lamp bezels - Black front fog lamp bezels - Black rear step pad - Black Grand Cherokee front door and 4x4 rear liftgate badging - Black Jeep badging; front bonnet and rear liftgate badging - Black roof mouldings replace roof rails - Night Eagle badge - Satellite navigation - Sunroof  We are a family owned, multi franchise business and have been operating for 30 years in the local community with excellent repeat business. Situated 4 hours north of Sydney and 6 hours south of Brisbane, we're well placed to service your needs regardless of can be arranged over the phone with one easy call and we offer very competitive rates with same day approval - we also deliver Australia Wide. Trade ins are welcome. Call one of our friendly sales consultants today and let them guide you through the buying process.\",\n",
       " 'TIMESTAMP': 1576621930,\n",
       " 'TYPE': 'Demo Vehicle',\n",
       " 'ENGINE/FUEL': '2987 cc / Diesel',\n",
       " 'TRANSMISSION': 'Automatic',\n",
       " 'BODY TYPE': 'Wagon',\n",
       " 'ODOMETER': '2,741 km',\n",
       " 'TITLE': '2019 Jeep Grand Cherokee Wagon (Granite Crystal)',\n",
       " 'SERIES': 'WK',\n",
       " 'EXTERIOR COLOUR': 'Granite Crystal (Grey)',\n",
       " 'VIN': '1C4RJFEM7KC699504',\n",
       " 'STOCK NO': '32425',\n",
       " 'REGO EXPIRY': 'June 2020',\n",
       " 'CYLINDERS': '6',\n",
       " 'ENGINE': '3.0',\n",
       " 'ENGINE SIZE (CC)': '2987 cc',\n",
       " 'POWER': '184',\n",
       " 'DRIVE TYPE': '4X4 Dual Range',\n",
       " 'FUEL ECONOMY (COMBINED)': '7.5',\n",
       " 'FUEL TYPE': 'Diesel',\n",
       " 'FUEL TYPE DESCRIPTION': 'Diesel',\n",
       " 'INDUCTION TYPE': 'Turbo Intercooled'}"
      ]
     },
     "execution_count": 103,
     "metadata": {},
     "output_type": "execute_result"
    }
   ],
   "source": [
    "parsed_details"
   ]
  },
  {
   "cell_type": "code",
   "execution_count": 104,
   "metadata": {},
   "outputs": [],
   "source": [
    "#to_save_df"
   ]
  },
  {
   "cell_type": "code",
   "execution_count": null,
   "metadata": {},
   "outputs": [],
   "source": []
  },
  {
   "cell_type": "code",
   "execution_count": 105,
   "metadata": {},
   "outputs": [],
   "source": [
    "for item in standard_models:\n",
    "    if item in parsed_details['TITLE'].upper():\n",
    "        parsed_details['MODEL'] = item\n",
    "        break"
   ]
  },
  {
   "cell_type": "code",
   "execution_count": 106,
   "metadata": {},
   "outputs": [
    {
     "data": {
      "text/plain": [
       "{'LINK': 'https://www.andrewmiedeckejeep.com.au/demo-car/jeep/grand-cherokee/32425/',\n",
       " 'PRICE': '$61,777',\n",
       " 'DEALER NAME': 'ANDREW MIEDECKE JEEP',\n",
       " 'MAKE': 'JEEP',\n",
       " 'LOCATION': '100 Hastings River Drive Port Macquarie, NSW 2444',\n",
       " 'COMMENTS': \"2019 Jeep Grand Cherokee Night Eagle Diesel Demonstrator  Featured in Granite Crystal with Capri Black Leather Seats with Suede inserts  This vehicle has the following factory options:  With only 300 diesels coming to Australia and only 18% featured in this colour.  - Night Eagle exclusive 20 inch split 5-spoke black alloy wheels - Black 7-slot Jeep Grille; black surrounds with silver mesh inserts - Body colour lower front fascia with black inserts - Body colour lower rear fascia, wheel arch flares and side sill clading - Deep tint sunscreen glass - Dual bright exhaust tips - Black side window surrounds - Black rear tail lamp bezels - Black front fog lamp bezels - Black rear step pad - Black Grand Cherokee front door and 4x4 rear liftgate badging - Black Jeep badging; front bonnet and rear liftgate badging - Black roof mouldings replace roof rails - Night Eagle badge - Satellite navigation - Sunroof  We are a family owned, multi franchise business and have been operating for 30 years in the local community with excellent repeat business. Situated 4 hours north of Sydney and 6 hours south of Brisbane, we're well placed to service your needs regardless of can be arranged over the phone with one easy call and we offer very competitive rates with same day approval - we also deliver Australia Wide. Trade ins are welcome. Call one of our friendly sales consultants today and let them guide you through the buying process.\",\n",
       " 'TIMESTAMP': 1576621930,\n",
       " 'TYPE': 'Demo Vehicle',\n",
       " 'ENGINE/FUEL': '2987 cc / Diesel',\n",
       " 'TRANSMISSION': 'Automatic',\n",
       " 'BODY TYPE': 'Wagon',\n",
       " 'ODOMETER': '2,741 km',\n",
       " 'TITLE': '2019 Jeep Grand Cherokee Wagon (Granite Crystal)',\n",
       " 'SERIES': 'WK',\n",
       " 'EXTERIOR COLOUR': 'Granite Crystal (Grey)',\n",
       " 'VIN': '1C4RJFEM7KC699504',\n",
       " 'STOCK NO': '32425',\n",
       " 'REGO EXPIRY': 'June 2020',\n",
       " 'CYLINDERS': '6',\n",
       " 'ENGINE': '3.0',\n",
       " 'ENGINE SIZE (CC)': '2987 cc',\n",
       " 'POWER': '184',\n",
       " 'DRIVE TYPE': '4X4 Dual Range',\n",
       " 'FUEL ECONOMY (COMBINED)': '7.5',\n",
       " 'FUEL TYPE': 'Diesel',\n",
       " 'FUEL TYPE DESCRIPTION': 'Diesel',\n",
       " 'INDUCTION TYPE': 'Turbo Intercooled',\n",
       " 'MODEL': 'GRAND CHEROKEE'}"
      ]
     },
     "execution_count": 106,
     "metadata": {},
     "output_type": "execute_result"
    }
   ],
   "source": [
    "parsed_details"
   ]
  },
  {
   "cell_type": "code",
   "execution_count": 107,
   "metadata": {},
   "outputs": [],
   "source": [
    "with open('../results/jeep.csv', 'w') as f:\n",
    "    w = csv.DictWriter(f, parsed_details.keys())\n",
    "    w.writeheader()\n",
    "    w.writerow(parsed_details)"
   ]
  },
  {
   "cell_type": "code",
   "execution_count": null,
   "metadata": {},
   "outputs": [],
   "source": []
  }
 ],
 "metadata": {
  "kernelspec": {
   "display_name": "Python 3",
   "language": "python",
   "name": "python3"
  },
  "language_info": {
   "codemirror_mode": {
    "name": "ipython",
    "version": 3
   },
   "file_extension": ".py",
   "mimetype": "text/x-python",
   "name": "python",
   "nbconvert_exporter": "python",
   "pygments_lexer": "ipython3",
   "version": "3.7.3"
  }
 },
 "nbformat": 4,
 "nbformat_minor": 2
}
