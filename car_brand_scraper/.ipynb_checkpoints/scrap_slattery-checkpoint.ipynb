{
 "cells": [
  {
   "cell_type": "code",
   "execution_count": 7,
   "metadata": {},
   "outputs": [],
   "source": [
    "from selenium import webdriver\n",
    "import time\n",
    "import pandas\n",
    "import csv"
   ]
  },
  {
   "cell_type": "code",
   "execution_count": 4,
   "metadata": {},
   "outputs": [],
   "source": [
    "details_mapping = {\n",
    "    \"COLOUR\": \"EXTERIOR COLOUR\",\n",
    "    \"VARIANT\": \"BADGE\",\n",
    "    \"KMS SHOWING\": \"ODOMETER\",\n",
    "    \"MOTOR TYPE\": \"ENGINE\",\n",
    "    \"GEARBOX MAKE/MODEL\": \"TRANSMISSION\",\n",
    "    \"STEERING TYPE\": \"STEERING\",\n",
    "    \"ENIGNE\": \"ENGINE NUMBER\",\n",
    "    \"EXTRAS\": \"VEHICLE FEATURES\"}"
   ]
  },
  {
   "cell_type": "code",
   "execution_count": 8,
   "metadata": {},
   "outputs": [],
   "source": [
    "RESEARCH_BASE_URL = \"https://www.slatteryauctions.com.au/search/cars-commercial-vehicles-motorcycles?gclid=Cj0KCQjwl8XtBRDAARIsAKfwtxBX33_4QMER8CNoUeURBhw1Q4IStUCf7ORD8CnKeSoWvAW2wa5U3ToaApoqEALw_wcB\"\n",
    "EXECUTABLE_PATH = \"/home/saronida/lib/geckodriver\""
   ]
  },
  {
   "cell_type": "code",
   "execution_count": 9,
   "metadata": {},
   "outputs": [],
   "source": [
    "driver = webdriver.Firefox(executable_path=EXECUTABLE_PATH)"
   ]
  },
  {
   "cell_type": "code",
   "execution_count": 98,
   "metadata": {},
   "outputs": [],
   "source": [
    "driver.get(RESEARCH_BASE_URL)"
   ]
  },
  {
   "cell_type": "code",
   "execution_count": 99,
   "metadata": {},
   "outputs": [],
   "source": [
    "time.sleep(10)\n",
    "item_cards = driver.find_elements_by_class_name(\"item-card__inner\")"
   ]
  },
  {
   "cell_type": "code",
   "execution_count": 100,
   "metadata": {},
   "outputs": [
    {
     "data": {
      "text/plain": [
       "142"
      ]
     },
     "execution_count": 100,
     "metadata": {},
     "output_type": "execute_result"
    }
   ],
   "source": [
    "len(item_cards)"
   ]
  },
  {
   "cell_type": "code",
   "execution_count": 101,
   "metadata": {},
   "outputs": [],
   "source": [
    "cars_urls = [item_card.find_element_by_tag_name(\"a\").get_attribute(\"href\") for item_card in item_cards]"
   ]
  },
  {
   "cell_type": "code",
   "execution_count": 5,
   "metadata": {},
   "outputs": [],
   "source": [
    "first_example_url = \"https://www.slatteryauctions.com.au/product/4459/950529/2017-lamborghini-aventador-lp-750-4-car-auction/2017-lamborghini-aventador\""
   ]
  },
  {
   "cell_type": "code",
   "execution_count": 6,
   "metadata": {},
   "outputs": [
    {
     "data": {
      "text/plain": [
       "'https://www.slatteryauctions.com.au/product/4459/950529/2017-lamborghini-aventador-lp-750-4-car-auction/2017-lamborghini-aventador'"
      ]
     },
     "execution_count": 6,
     "metadata": {},
     "output_type": "execute_result"
    }
   ],
   "source": [
    "first_example_url"
   ]
  },
  {
   "cell_type": "code",
   "execution_count": 10,
   "metadata": {},
   "outputs": [],
   "source": [
    "driver.get(first_example_url)"
   ]
  },
  {
   "cell_type": "code",
   "execution_count": 11,
   "metadata": {},
   "outputs": [],
   "source": [
    "link = first_example_url"
   ]
  },
  {
   "cell_type": "code",
   "execution_count": 12,
   "metadata": {},
   "outputs": [],
   "source": [
    "title = driver.find_elements_by_class_name(\"product-details__title\")[1].text"
   ]
  },
  {
   "cell_type": "code",
   "execution_count": 13,
   "metadata": {},
   "outputs": [
    {
     "data": {
      "text/plain": [
       "'2017 LAMBORGHINI AVENTADOR'"
      ]
     },
     "execution_count": 13,
     "metadata": {},
     "output_type": "execute_result"
    }
   ],
   "source": [
    "title"
   ]
  },
  {
   "cell_type": "code",
   "execution_count": 14,
   "metadata": {},
   "outputs": [],
   "source": [
    "price = driver.find_element_by_class_name(\"starting-bid\").find_element_by_class_name(\"ng-binding\").text"
   ]
  },
  {
   "cell_type": "code",
   "execution_count": 15,
   "metadata": {},
   "outputs": [
    {
     "data": {
      "text/plain": [
       "'$300,000.00'"
      ]
     },
     "execution_count": 15,
     "metadata": {},
     "output_type": "execute_result"
    }
   ],
   "source": [
    "price"
   ]
  },
  {
   "cell_type": "code",
   "execution_count": 16,
   "metadata": {},
   "outputs": [],
   "source": [
    "initial_details = {\n",
    "    \"TITLE\": title, \"LINK\": link, \"PRICE\": price}"
   ]
  },
  {
   "cell_type": "code",
   "execution_count": 22,
   "metadata": {},
   "outputs": [],
   "source": [
    "initial_details[\"DEALER NAME\"] = \"Slattery Auctions\""
   ]
  },
  {
   "cell_type": "code",
   "execution_count": 18,
   "metadata": {},
   "outputs": [],
   "source": [
    "location = driver.find_element_by_class_name(\"snapshot__details\").find_elements_by_tag_name(\"li\")[2].text"
   ]
  },
  {
   "cell_type": "code",
   "execution_count": 19,
   "metadata": {},
   "outputs": [
    {
     "data": {
      "text/plain": [
       "'6-8 Waterview Close, Dandenong South VIC 3175'"
      ]
     },
     "execution_count": 19,
     "metadata": {},
     "output_type": "execute_result"
    }
   ],
   "source": [
    "location"
   ]
  },
  {
   "cell_type": "code",
   "execution_count": 20,
   "metadata": {},
   "outputs": [],
   "source": [
    "initial_details[\"LOCATION\"] = location"
   ]
  },
  {
   "cell_type": "code",
   "execution_count": 23,
   "metadata": {},
   "outputs": [
    {
     "data": {
      "text/plain": [
       "{'TITLE': '2017 LAMBORGHINI AVENTADOR',\n",
       " 'LINK': 'https://www.slatteryauctions.com.au/product/4459/950529/2017-lamborghini-aventador-lp-750-4-car-auction/2017-lamborghini-aventador',\n",
       " 'PRICE': '$300,000.00',\n",
       " 'LOCATION': '6-8 Waterview Close, Dandenong South VIC 3175',\n",
       " 'DEALER NAME': 'Slattery Auctions'}"
      ]
     },
     "execution_count": 23,
     "metadata": {},
     "output_type": "execute_result"
    }
   ],
   "source": [
    "initial_details"
   ]
  },
  {
   "cell_type": "code",
   "execution_count": 24,
   "metadata": {},
   "outputs": [],
   "source": [
    "##############"
   ]
  },
  {
   "cell_type": "code",
   "execution_count": 25,
   "metadata": {},
   "outputs": [],
   "source": [
    "product_details_comments_features = driver.find_element_by_id(\"product-details\")"
   ]
  },
  {
   "cell_type": "code",
   "execution_count": 30,
   "metadata": {},
   "outputs": [],
   "source": [
    "description = product_details_comments_features.find_elements_by_class_name(\"table-product-details\")[0]"
   ]
  },
  {
   "cell_type": "code",
   "execution_count": 33,
   "metadata": {},
   "outputs": [],
   "source": [
    "description_items = description.text.split(\"\\n\")"
   ]
  },
  {
   "cell_type": "code",
   "execution_count": 36,
   "metadata": {},
   "outputs": [],
   "source": [
    "description_details = [item for item in description_items if \":\" in item and len(item.split(\":\"))==2]"
   ]
  },
  {
   "cell_type": "code",
   "execution_count": null,
   "metadata": {},
   "outputs": [],
   "source": []
  },
  {
   "cell_type": "code",
   "execution_count": null,
   "metadata": {},
   "outputs": [],
   "source": []
  },
  {
   "cell_type": "code",
   "execution_count": 38,
   "metadata": {},
   "outputs": [],
   "source": [
    "details_block = product_details_comments_features.find_elements_by_class_name(\"table-product-details\")[1]"
   ]
  },
  {
   "cell_type": "code",
   "execution_count": 39,
   "metadata": {},
   "outputs": [],
   "source": [
    "details = details_block.find_elements_by_tag_name(\"tr\")"
   ]
  },
  {
   "cell_type": "code",
   "execution_count": 40,
   "metadata": {},
   "outputs": [
    {
     "data": {
      "text/plain": [
       "12"
      ]
     },
     "execution_count": 40,
     "metadata": {},
     "output_type": "execute_result"
    }
   ],
   "source": [
    "len(details)"
   ]
  },
  {
   "cell_type": "code",
   "execution_count": 42,
   "metadata": {},
   "outputs": [],
   "source": [
    "asset_conditions_block = product_details_comments_features.find_elements_by_class_name(\"table-product-details\")[2]"
   ]
  },
  {
   "cell_type": "code",
   "execution_count": 43,
   "metadata": {},
   "outputs": [],
   "source": [
    "asset_conditions = asset_conditions_block.find_elements_by_tag_name(\"tr\")"
   ]
  },
  {
   "cell_type": "code",
   "execution_count": 44,
   "metadata": {},
   "outputs": [
    {
     "data": {
      "text/plain": [
       "10"
      ]
     },
     "execution_count": 44,
     "metadata": {},
     "output_type": "execute_result"
    }
   ],
   "source": [
    "len(asset_conditions)"
   ]
  },
  {
   "cell_type": "code",
   "execution_count": 45,
   "metadata": {},
   "outputs": [],
   "source": [
    "extra_block = product_details_comments_features.find_elements_by_class_name(\"table-product-details\")[3]"
   ]
  },
  {
   "cell_type": "code",
   "execution_count": 46,
   "metadata": {},
   "outputs": [],
   "source": [
    "extra = extra_block.find_elements_by_tag_name(\"tr\")"
   ]
  },
  {
   "cell_type": "code",
   "execution_count": 47,
   "metadata": {},
   "outputs": [
    {
     "data": {
      "text/plain": [
       "14"
      ]
     },
     "execution_count": 47,
     "metadata": {},
     "output_type": "execute_result"
    }
   ],
   "source": [
    "len(extra)"
   ]
  },
  {
   "cell_type": "code",
   "execution_count": 117,
   "metadata": {},
   "outputs": [],
   "source": [
    "#main_pane = driver.find_element_by_id(\"product-details-main-pane\")"
   ]
  },
  {
   "cell_type": "code",
   "execution_count": 118,
   "metadata": {},
   "outputs": [],
   "source": [
    "#main_pane_details_block = main_pane.find_element_by_class_name(\"table-product-details\")"
   ]
  },
  {
   "cell_type": "code",
   "execution_count": 119,
   "metadata": {},
   "outputs": [],
   "source": [
    "#main_pane_details = main_pane_details_block.find_elements_by_tag_name(\"tr\")"
   ]
  },
  {
   "cell_type": "code",
   "execution_count": 56,
   "metadata": {},
   "outputs": [],
   "source": [
    "#extra[0].find_element_by_tag_name(\"td\").find_element_by_tag_name(\"i\").get_attribute(\"class\")"
   ]
  },
  {
   "cell_type": "code",
   "execution_count": 58,
   "metadata": {},
   "outputs": [],
   "source": [
    "def parse_details(description_details, details, asset_conditions, extra, initial_details):\n",
    "    \"\"\" Parses vehicle's details box. \"\"\"\n",
    "\n",
    "    parsed_details = initial_details\n",
    "    \n",
    "    for detail in description_details:\n",
    "        key = detail.split(\":\")[0]\n",
    "        value = detail.split(\":\")[1]\n",
    "        if value != \"\":\n",
    "            parsed_details[key] = value\n",
    "            \n",
    "    for detail in details:\n",
    "        parsed_details[detail.find_element_by_tag_name(\"th\").text] = detail.find_element_by_tag_name(\"td\").text\n",
    "    \n",
    "    for detail in asset_conditions:\n",
    "        parsed_details[detail.find_element_by_tag_name(\"th\").text] = detail.find_element_by_tag_name(\"td\").text\n",
    "    \n",
    "    features_list = []\n",
    "    for feature in extra:\n",
    "        if feature.find_element_by_tag_name(\"td\").find_element_by_tag_name(\"i\").get_attribute(\"class\"):\n",
    "            features_list.append(feature.find_element_by_tag_name(\"th\").text)\n",
    "    parsed_details[\"VEHICLE FEATURES\"] = \",\".join(features_list)\n",
    "    \n",
    "    parsed_details_df = pandas.DataFrame.from_dict(parsed_details, orient=\"index\", columns=[\"value\"])\n",
    "    parsed_details_df[\"key\"] = parsed_details_df.index\n",
    "    parsed_details_df.reset_index(inplace=True, drop=True)\n",
    "    return parsed_details_df"
   ]
  },
  {
   "cell_type": "code",
   "execution_count": 59,
   "metadata": {},
   "outputs": [],
   "source": [
    "parsed_details_df = parse_details(description_details, details, asset_conditions, extra, initial_details)"
   ]
  },
  {
   "cell_type": "code",
   "execution_count": 60,
   "metadata": {},
   "outputs": [
    {
     "data": {
      "text/html": [
       "<div>\n",
       "<style scoped>\n",
       "    .dataframe tbody tr th:only-of-type {\n",
       "        vertical-align: middle;\n",
       "    }\n",
       "\n",
       "    .dataframe tbody tr th {\n",
       "        vertical-align: top;\n",
       "    }\n",
       "\n",
       "    .dataframe thead th {\n",
       "        text-align: right;\n",
       "    }\n",
       "</style>\n",
       "<table border=\"1\" class=\"dataframe\">\n",
       "  <thead>\n",
       "    <tr style=\"text-align: right;\">\n",
       "      <th></th>\n",
       "      <th>value</th>\n",
       "      <th>key</th>\n",
       "    </tr>\n",
       "  </thead>\n",
       "  <tbody>\n",
       "    <tr>\n",
       "      <th>0</th>\n",
       "      <td>2017 LAMBORGHINI AVENTADOR</td>\n",
       "      <td>TITLE</td>\n",
       "    </tr>\n",
       "    <tr>\n",
       "      <th>1</th>\n",
       "      <td>https://www.slatteryauctions.com.au/product/44...</td>\n",
       "      <td>LINK</td>\n",
       "    </tr>\n",
       "    <tr>\n",
       "      <th>2</th>\n",
       "      <td>$300,000.00</td>\n",
       "      <td>PRICE</td>\n",
       "    </tr>\n",
       "    <tr>\n",
       "      <th>3</th>\n",
       "      <td>6-8 Waterview Close, Dandenong South VIC 3175</td>\n",
       "      <td>LOCATION</td>\n",
       "    </tr>\n",
       "    <tr>\n",
       "      <th>4</th>\n",
       "      <td>Slattery Auctions</td>\n",
       "      <td>DEALER NAME</td>\n",
       "    </tr>\n",
       "    <tr>\n",
       "      <th>5</th>\n",
       "      <td>ZHWET3ZD9HLA06405</td>\n",
       "      <td>VIN</td>\n",
       "    </tr>\n",
       "    <tr>\n",
       "      <th>6</th>\n",
       "      <td>L53906796</td>\n",
       "      <td>ENGINE</td>\n",
       "    </tr>\n",
       "    <tr>\n",
       "      <th>7</th>\n",
       "      <td>GREY</td>\n",
       "      <td>COLOUR</td>\n",
       "    </tr>\n",
       "    <tr>\n",
       "      <th>8</th>\n",
       "      <td>7021</td>\n",
       "      <td>ODOMETER</td>\n",
       "    </tr>\n",
       "    <tr>\n",
       "      <th>9</th>\n",
       "      <td>01/06/2017</td>\n",
       "      <td>COMPLIANCE DATE</td>\n",
       "    </tr>\n",
       "    <tr>\n",
       "      <th>10</th>\n",
       "      <td>LAMBORGHINI</td>\n",
       "      <td>Make</td>\n",
       "    </tr>\n",
       "    <tr>\n",
       "      <th>11</th>\n",
       "      <td>AVENTADOR</td>\n",
       "      <td>Model</td>\n",
       "    </tr>\n",
       "    <tr>\n",
       "      <th>12</th>\n",
       "      <td>GREY</td>\n",
       "      <td>Colour</td>\n",
       "    </tr>\n",
       "    <tr>\n",
       "      <th>13</th>\n",
       "      <td>LP750-4 SUPERVELOCE</td>\n",
       "      <td>Variant</td>\n",
       "    </tr>\n",
       "    <tr>\n",
       "      <th>14</th>\n",
       "      <td>7021</td>\n",
       "      <td>KMS Showing</td>\n",
       "    </tr>\n",
       "    <tr>\n",
       "      <th>15</th>\n",
       "      <td>6.5L V12 MULTI POINT F/INJ</td>\n",
       "      <td>Motor Type</td>\n",
       "    </tr>\n",
       "    <tr>\n",
       "      <th>16</th>\n",
       "      <td>2D ROADSTER</td>\n",
       "      <td>Body Type</td>\n",
       "    </tr>\n",
       "    <tr>\n",
       "      <th>17</th>\n",
       "      <td>7 SP AUTO DIRECT SHIFT</td>\n",
       "      <td>Gearbox Make/Model</td>\n",
       "    </tr>\n",
       "    <tr>\n",
       "      <th>18</th>\n",
       "      <td>RACK &amp; PINION - POWER ASSISTED</td>\n",
       "      <td>Steering Type</td>\n",
       "    </tr>\n",
       "    <tr>\n",
       "      <th>19</th>\n",
       "      <td>L53906796</td>\n",
       "      <td>Engine</td>\n",
       "    </tr>\n",
       "    <tr>\n",
       "      <th>20</th>\n",
       "      <td>REVERSE CAMERA. SATNAV/GPS. NO:75 OF 500 MANUA...</td>\n",
       "      <td>Extras</td>\n",
       "    </tr>\n",
       "    <tr>\n",
       "      <th>21</th>\n",
       "      <td>GOOD</td>\n",
       "      <td>Interior Cond</td>\n",
       "    </tr>\n",
       "    <tr>\n",
       "      <th>22</th>\n",
       "      <td>GOOD</td>\n",
       "      <td>Carpet Cond</td>\n",
       "    </tr>\n",
       "    <tr>\n",
       "      <th>23</th>\n",
       "      <td>GOOD</td>\n",
       "      <td>Trim Cond</td>\n",
       "    </tr>\n",
       "    <tr>\n",
       "      <th>24</th>\n",
       "      <td>GOOD</td>\n",
       "      <td>Body Cond</td>\n",
       "    </tr>\n",
       "    <tr>\n",
       "      <th>25</th>\n",
       "      <td>GOOD</td>\n",
       "      <td>Seat Cond</td>\n",
       "    </tr>\n",
       "    <tr>\n",
       "      <th>26</th>\n",
       "      <td>GOOD</td>\n",
       "      <td>Paint Cond</td>\n",
       "    </tr>\n",
       "    <tr>\n",
       "      <th>27</th>\n",
       "      <td>GOOD</td>\n",
       "      <td>Brake Cond</td>\n",
       "    </tr>\n",
       "    <tr>\n",
       "      <th>28</th>\n",
       "      <td>GOOD</td>\n",
       "      <td>Mechanical Cond</td>\n",
       "    </tr>\n",
       "    <tr>\n",
       "      <th>29</th>\n",
       "      <td>NIL</td>\n",
       "      <td>Rust Cond</td>\n",
       "    </tr>\n",
       "    <tr>\n",
       "      <th>30</th>\n",
       "      <td>Key,A/C,ABS,Leather,Power Windows,Drivable,Cen...</td>\n",
       "      <td>VEHICLE FEATURES</td>\n",
       "    </tr>\n",
       "  </tbody>\n",
       "</table>\n",
       "</div>"
      ],
      "text/plain": [
       "                                                value                 key\n",
       "0                          2017 LAMBORGHINI AVENTADOR               TITLE\n",
       "1   https://www.slatteryauctions.com.au/product/44...                LINK\n",
       "2                                         $300,000.00               PRICE\n",
       "3       6-8 Waterview Close, Dandenong South VIC 3175            LOCATION\n",
       "4                                   Slattery Auctions         DEALER NAME\n",
       "5                                   ZHWET3ZD9HLA06405                 VIN\n",
       "6                                           L53906796              ENGINE\n",
       "7                                                GREY              COLOUR\n",
       "8                                                7021            ODOMETER\n",
       "9                                          01/06/2017     COMPLIANCE DATE\n",
       "10                                        LAMBORGHINI                Make\n",
       "11                                          AVENTADOR               Model\n",
       "12                                               GREY              Colour\n",
       "13                                LP750-4 SUPERVELOCE             Variant\n",
       "14                                               7021         KMS Showing\n",
       "15                         6.5L V12 MULTI POINT F/INJ          Motor Type\n",
       "16                                        2D ROADSTER           Body Type\n",
       "17                             7 SP AUTO DIRECT SHIFT  Gearbox Make/Model\n",
       "18                     RACK & PINION - POWER ASSISTED       Steering Type\n",
       "19                                          L53906796              Engine\n",
       "20  REVERSE CAMERA. SATNAV/GPS. NO:75 OF 500 MANUA...              Extras\n",
       "21                                               GOOD       Interior Cond\n",
       "22                                               GOOD         Carpet Cond\n",
       "23                                               GOOD           Trim Cond\n",
       "24                                               GOOD           Body Cond\n",
       "25                                               GOOD           Seat Cond\n",
       "26                                               GOOD          Paint Cond\n",
       "27                                               GOOD          Brake Cond\n",
       "28                                               GOOD     Mechanical Cond\n",
       "29                                                NIL           Rust Cond\n",
       "30  Key,A/C,ABS,Leather,Power Windows,Drivable,Cen...    VEHICLE FEATURES"
      ]
     },
     "execution_count": 60,
     "metadata": {},
     "output_type": "execute_result"
    }
   ],
   "source": [
    "parsed_details_df"
   ]
  },
  {
   "cell_type": "code",
   "execution_count": 61,
   "metadata": {},
   "outputs": [],
   "source": [
    "def alter_details(parsed_details_df):\n",
    "    \"\"\" Alters details to match mapping format. \"\"\"\n",
    "\n",
    "    parsed_details_df = parsed_details_df[~pandas.isnull(parsed_details_df.key)]\n",
    "    parsed_details_df[\"key\"] = parsed_details_df[\"key\"].apply(lambda key: key.replace(\":\", \"\").strip().upper())\n",
    "    parsed_details_df[\"key\"] = parsed_details_df[\"key\"].apply(\n",
    "        lambda key: details_mapping[key] if key in details_mapping.keys() else key)\n",
    "    parsed_details_df.drop_duplicates(subset =\"key\", inplace = True)\n",
    "    return parsed_details_df"
   ]
  },
  {
   "cell_type": "code",
   "execution_count": 62,
   "metadata": {},
   "outputs": [],
   "source": [
    "parsed_details_df = alter_details(parsed_details_df)"
   ]
  },
  {
   "cell_type": "code",
   "execution_count": 63,
   "metadata": {},
   "outputs": [],
   "source": [
    "tmp_dict = parsed_details_df.to_dict(orient=\"list\")\n",
    "parsed_details = dict(zip(tmp_dict[\"key\"], tmp_dict[\"value\"]))"
   ]
  },
  {
   "cell_type": "code",
   "execution_count": 66,
   "metadata": {},
   "outputs": [
    {
     "data": {
      "text/plain": [
       "'REVERSE CAMERA. SATNAV/GPS. NO:75 OF 500 MANUAFACTURED. DC315544'"
      ]
     },
     "execution_count": 66,
     "metadata": {},
     "output_type": "execute_result"
    }
   ],
   "source": [
    "parsed_details[\"VEHICLE FEATURES\"]"
   ]
  },
  {
   "cell_type": "code",
   "execution_count": 127,
   "metadata": {},
   "outputs": [],
   "source": [
    "#to_save_df"
   ]
  },
  {
   "cell_type": "code",
   "execution_count": 65,
   "metadata": {},
   "outputs": [],
   "source": [
    "with open('./results/slattery.csv', 'w') as f:\n",
    "    w = csv.DictWriter(f, parsed_details.keys())\n",
    "    w.writeheader()\n",
    "    w.writerow(parsed_details)"
   ]
  },
  {
   "cell_type": "code",
   "execution_count": null,
   "metadata": {},
   "outputs": [],
   "source": []
  }
 ],
 "metadata": {
  "kernelspec": {
   "display_name": "Python 3",
   "language": "python",
   "name": "python3"
  },
  "language_info": {
   "codemirror_mode": {
    "name": "ipython",
    "version": 3
   },
   "file_extension": ".py",
   "mimetype": "text/x-python",
   "name": "python",
   "nbconvert_exporter": "python",
   "pygments_lexer": "ipython3",
   "version": "3.7.3"
  }
 },
 "nbformat": 4,
 "nbformat_minor": 2
}
